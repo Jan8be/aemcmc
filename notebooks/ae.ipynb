{
 "cells": [
  {
   "cell_type": "markdown",
   "id": "d83d523b-2b84-47a6-85ab-c44bec2e9db1",
   "metadata": {},
   "source": [
    "# Train the autoencoder"
   ]
  },
  {
   "cell_type": "markdown",
   "id": "785d9ab8-be6f-40d9-a7fc-f962462f4957",
   "metadata": {},
   "source": [
    "Use this notebook to train an autoencoder to model conformational flexibility of the protein of interest. "
   ]
  },
  {
   "cell_type": "markdown",
   "id": "9372dee7-e114-44e2-a5d1-d92d76a5648a",
   "metadata": {},
   "source": [
    "## Import necessary packages"
   ]
  },
  {
   "cell_type": "code",
   "execution_count": null,
   "id": "f2d374cd-dd10-4298-ae5e-db18449703c9",
   "metadata": {
    "editable": true,
    "slideshow": {
     "slide_type": ""
    },
    "tags": []
   },
   "outputs": [],
   "source": [
    "# load packages\n",
    "import os\n",
    "import tensorflow as tf\n",
    "import numpy as np\n",
    "from matplotlib import pyplot as plt\n",
    "from tensorflow import keras\n",
    "from keras import layers\n",
    "from keras import saving\n",
    "from sklearn.model_selection import train_test_split\n",
    "from IPython.display import clear_output\n",
    "\n",
    "from openmm.app import *\n",
    "from openmm import *\n",
    "from openmm.unit import *\n",
    "import openmm"
   ]
  },
  {
   "cell_type": "markdown",
   "id": "65ac5041-a775-4d7f-92a6-df281004ea14",
   "metadata": {},
   "source": [
    "## Initialize system properties"
   ]
  },
  {
   "cell_type": "markdown",
   "id": "3586a149-b51b-4681-81ec-617d0c63889d",
   "metadata": {},
   "source": [
    "Initialize name of the protein and the model to train"
   ]
  },
  {
   "cell_type": "code",
   "execution_count": null,
   "id": "cef29df3-c78a-4070-801d-80914f984148",
   "metadata": {},
   "outputs": [],
   "source": [
    "system_name = \"trpcage\"\n",
    "model_name = \"model_1\""
   ]
  },
  {
   "cell_type": "markdown",
   "id": "6126b98f-0fba-4c78-bd38-5d4c7952ccaa",
   "metadata": {},
   "source": [
    "Set parameters of these functions:\n",
    "- Standardize to take your input data (cartesian coordinates of the protein) and scale the data to be between 0.0 and 1.0\n",
    "- Unstandardize in inverse to Standardise - this function will be usefull later for the MCMC simulation"
   ]
  },
  {
   "cell_type": "code",
   "execution_count": null,
   "id": "ece280b4-d3f6-4058-b407-d1d3ddcd8c33",
   "metadata": {},
   "outputs": [],
   "source": [
    "def Standardize(x):\n",
    "    #x = np.array(x)\n",
    "    if system_name == \"trpcage\":\n",
    "        result = (x + 1.0)/6\n",
    "    elif system_name == \"villin\":\n",
    "        result = (x + 2.0)/9\n",
    "    elif system_name == \"pdz\":\n",
    "        result = (x - 1.5)/9\n",
    "    return result\n",
    "\n",
    "def Unstandardize(x):\n",
    "    #x = np.array(x)\n",
    "    if system_name == \"trpcage\":\n",
    "        result = (x * 6) + 1.0\n",
    "    elif system_name == \"villin\":\n",
    "        result = (x * 9) - 2.0\n",
    "    elif system_name == \"pdz\":\n",
    "        result = (x * 9) + 1.5\n",
    "    return result"
   ]
  },
  {
   "cell_type": "markdown",
   "id": "ffe44827-3cd1-4c8f-ab3e-a80a4705eee4",
   "metadata": {},
   "source": [
    "Check if GPU is available for acceleration"
   ]
  },
  {
   "cell_type": "code",
   "execution_count": null,
   "id": "6b407d14-f87d-4e81-b086-752345120266",
   "metadata": {},
   "outputs": [],
   "source": [
    "print(\"Num GPUs Available: \", len(tf.config.experimental.list_physical_devices('GPU')))"
   ]
  },
  {
   "cell_type": "markdown",
   "id": "98123205-2acf-4d62-9c06-32a0db1c7439",
   "metadata": {},
   "source": [
    "## Load and process the training dataset"
   ]
  },
  {
   "cell_type": "code",
   "execution_count": null,
   "id": "d72c0ebe-86a2-4104-b7a0-f25fa053534f",
   "metadata": {},
   "outputs": [],
   "source": [
    "coords = np.load(\"../data/\"+system_name+\"_ds.npy\")"
   ]
  },
  {
   "cell_type": "markdown",
   "id": "5031234a-d626-4964-bf68-5711eadf5292",
   "metadata": {},
   "source": [
    "Standardize the loaded data\n",
    "- `data_density` should be 1, use bigger integer for quick testing purposes"
   ]
  },
  {
   "cell_type": "code",
   "execution_count": null,
   "id": "a713a85c-ddca-44db-9e0d-6766e82b38e9",
   "metadata": {
    "editable": true,
    "slideshow": {
     "slide_type": ""
    },
    "tags": []
   },
   "outputs": [],
   "source": [
    "data_density = 1\n",
    "data = Standardize(coords[::data_density])\n",
    "del(coords)"
   ]
  },
  {
   "cell_type": "markdown",
   "id": "ee7f0f7e-7a47-4b3e-baf8-3dbc01ab6ad9",
   "metadata": {},
   "source": [
    "Split the dataset to training and testing sets"
   ]
  },
  {
   "cell_type": "code",
   "execution_count": null,
   "id": "be7d6d17-ace0-4f97-bda7-cc35af3d1cdc",
   "metadata": {
    "editable": true,
    "slideshow": {
     "slide_type": ""
    },
    "tags": []
   },
   "outputs": [],
   "source": [
    "x_train, x_test, y_train, y_test = train_test_split(data, data, test_size=0.2, random_state=24)\n",
    "x_train.shape\n",
    "ref_str = data[0,:]"
   ]
  },
  {
   "cell_type": "markdown",
   "id": "68f4cb79-6951-4cb8-b575-4640784419d4",
   "metadata": {},
   "source": [
    "Create dataset objects for TensorFlow"
   ]
  },
  {
   "cell_type": "code",
   "execution_count": null,
   "id": "b0967d06-570e-4560-822a-1005ced91f9c",
   "metadata": {},
   "outputs": [],
   "source": [
    "xy_train = tf.data.Dataset.from_tensor_slices((x_train, y_train))\n",
    "xy_test = tf.data.Dataset.from_tensor_slices((x_test, y_test))"
   ]
  },
  {
   "cell_type": "markdown",
   "id": "aaad8541-eee6-4c27-82fc-3f521fd0388b",
   "metadata": {},
   "source": [
    "Specify the batch size for training"
   ]
  },
  {
   "cell_type": "code",
   "execution_count": null,
   "id": "7951c4ba-a22f-4439-903a-d728f26cfb1a",
   "metadata": {},
   "outputs": [],
   "source": [
    "BATCH_SIZE = 100\n",
    "SHUFFLE_BUFFER_SIZE = 100\n",
    "\n",
    "xy_train = xy_train.shuffle(SHUFFLE_BUFFER_SIZE, seed=24).batch(BATCH_SIZE)\n",
    "xy_test = xy_test.batch(BATCH_SIZE)"
   ]
  },
  {
   "cell_type": "markdown",
   "id": "7f01ad98-930a-4f73-bcd2-a712429a850a",
   "metadata": {},
   "source": [
    "## Model architecture"
   ]
  },
  {
   "cell_type": "markdown",
   "id": "3091fbcf-3d1a-4b9b-b8bb-58a9e8fc0051",
   "metadata": {},
   "source": [
    "PlotLearning is a Keras Callback that can be used to visualize the training progress and to save the best models to a file \"model_cb.keras\" that can be used as a backup in a case of some technical failure"
   ]
  },
  {
   "cell_type": "code",
   "execution_count": null,
   "id": "8acc1107-ddca-4186-aa1c-b6685e27dd34",
   "metadata": {
    "editable": true,
    "slideshow": {
     "slide_type": ""
    },
    "tags": []
   },
   "outputs": [],
   "source": [
    "class PlotLearning(tf.keras.callbacks.Callback):\n",
    "    \"\"\"\n",
    "    Callback to plot the learning curves of the model during training.\n",
    "    \"\"\"\n",
    "    def on_train_begin(self, logs=None):\n",
    "        #keys = list(logs.keys())\n",
    "        #print(\"Starting training; got log keys: {}\".format(keys))\n",
    "        self.metrics = {}\n",
    "        self.rmsd = np.loadtxt(\"../data/\"+system_name+\"_rmsd_ds.xvg\")\n",
    "        for metric in logs:\n",
    "            self.metrics[metric] = []\n",
    "\n",
    "    def on_epoch_end(self, epoch, logs=None):\n",
    "        keys = list(logs.keys())\n",
    "        #print(\"End epoch {} of training; got log keys: {}\".format(epoch, keys))\n",
    "        # Storing metrics\n",
    "        for metric in keys:\n",
    "            if metric in self.metrics:\n",
    "                self.metrics[metric].append(logs.get(metric))\n",
    "            else:\n",
    "                self.metrics[metric] = [logs.get(metric)]\n",
    "\n",
    "        latents = encoder.predict(data[::10,:])\n",
    "        \n",
    "        if len(self.metrics['val_loss']) > 2:\n",
    "            if self.metrics['val_loss'][-1] == np.min(self.metrics['val_loss']):\n",
    "                model.save(\"models/model_cb.keras\")\n",
    "                encoder.save(\"models/encoder_cb.keras\")\n",
    "                decoder.save(\"models/decoder_cb.keras\")\n",
    "                \n",
    "        # Plotting\n",
    "        metrics = [x for x in keys if 'val' not in x]\n",
    "        \n",
    "        f, axs = plt.subplots(1, len(metrics)+1, figsize=(15,5))\n",
    "        clear_output(wait=True)\n",
    "\n",
    "        for i, metric in enumerate(metrics):\n",
    "            axs[i].plot(range(1, epoch + 2)[1:], self.metrics[metric][1:], label=metric)\n",
    "            if logs['val_' + metric]:\n",
    "                axs[i].plot(range(1, epoch + 2)[1:], self.metrics['val_' + metric][1:], label='val_' + metric, color=\"orange\")\n",
    "                \n",
    "            axs[i].legend()\n",
    "            axs[i].grid()\n",
    "            axs[i].ticklabel_format(useOffset=False, style='plain')\n",
    "        \n",
    "        axs[-1].scatter(latents[:,0],latents[:,1], c=self.rmsd[::10*data_density,1], cmap=\"jet\", s=1)\n",
    "        \n",
    "        keras.backend.clear_session() \n",
    "        \n",
    "        plt.tight_layout()\n",
    "        #plt.savefig(\"loss.png\")\n",
    "        plt.show()"
   ]
  },
  {
   "cell_type": "markdown",
   "id": "b9d4eea5-acaa-451c-ae36-662225cef73b",
   "metadata": {},
   "source": [
    "Here, there are the definitions of \n",
    "- custom loss functions\n",
    "- the Sampling function which adds random noise to the encoder outputs\n",
    "- metric for plotting the potential energy estimation for the decoded structures, to visualize the learning process"
   ]
  },
  {
   "cell_type": "code",
   "execution_count": null,
   "id": "8e7a1cc6-e85e-48e6-a940-73254dcfb38f",
   "metadata": {
    "editable": true,
    "slideshow": {
     "slide_type": ""
    },
    "tags": []
   },
   "outputs": [],
   "source": [
    "pdb = PDBFile(\"../data/\"+system_name+\"_reference.pdb\")\n",
    "forcefield = ForceField('amber14-all.xml', 'implicit/gbn2.xml')\n",
    "E_eval_system = forcefield.createSystem(pdb.topology)\n",
    "E_eval_integrator = LangevinMiddleIntegrator(300*kelvin, 1/picosecond, 0.002*picoseconds)\n",
    "E_eval_simulation = Simulation(pdb.topology, E_eval_system, E_eval_integrator)\n",
    "\n",
    "mse = keras.losses.MeanSquaredError()\n",
    "\n",
    "@saving.register_keras_serializable()\n",
    "def potential_energy(pos):\n",
    "    pos = np.reshape(pos, ((int(data.shape[1]/3), 3)))\n",
    "    #pos = pos.numpy().tolist()\n",
    "    pos = Unstandardize(pos)\n",
    "    E_eval_simulation.context.setPositions(pos)\n",
    "    E_eval_state = E_eval_simulation.context.getState(getEnergy=True)\n",
    "    return E_eval_state.getPotentialEnergy().value_in_unit(kilojoule/mole)\n",
    "    \n",
    "@saving.register_keras_serializable()\n",
    "def pe_editlog_metric(pos_true, pos_pred):\n",
    "    pos = pos_pred[0,:]\n",
    "    pos = keras.ops.reshape(pos, ((int(pos.shape[0]/3), 3)))\n",
    "    try:\n",
    "        pos = Unstandardize(pos)\n",
    "        E_eval_simulation.context.setPositions(list(pos))\n",
    "        E_eval_state = E_eval_simulation.context.getState(getEnergy=True)\n",
    "        E = E_eval_state.getPotentialEnergy().value_in_unit(kilojoule/mole)\n",
    "        if E > 0.0:\n",
    "            return np.log10(E+1.0)\n",
    "        elif E == 0.0:\n",
    "            return 0.0\n",
    "        else:\n",
    "            return -np.log10(-E+1.0)\n",
    "    except: \n",
    "        return 20.0\n",
    "        \n",
    "@saving.register_keras_serializable()\n",
    "def msle_and_dist(y_true, y_pred):\n",
    "    # Expand dimensions to enable broadcasting\n",
    "    #y_true_reshaped = keras.ops.reshape(y_true, (y_true.shape[0],int(y_true.shape[1]/3), 3))\n",
    "    y_true_reshaped = keras.ops.reshape(y_true, (-1, keras.ops.cast(keras.ops.shape(y_true)[1]/3,\"int32\"), 3))\n",
    "    y_true_expanded = keras.ops.expand_dims(y_true_reshaped, 1)\n",
    "    y_true_expanded_transposed = keras.ops.transpose(y_true_expanded, axes=[0, 2, 1, 3])\n",
    "    # Calculate pairwise differences\n",
    "    true_diff = y_true_expanded - y_true_expanded_transposed\n",
    "    # Calculate squared distances\n",
    "    true_squared_distances = keras.ops.sum(keras.ops.square(true_diff), axis=-1)\n",
    "    # Take square root to get distances\n",
    "    dist_true = keras.ops.sqrt(true_squared_distances)    \n",
    "\n",
    "    # Expand dimensions to enable broadcasting\n",
    "    y_pred_reshaped = keras.ops.reshape(y_pred, (-1, keras.ops.cast(keras.ops.shape(y_pred)[1]/3,\"int32\"), 3))\n",
    "    y_pred_expanded = keras.ops.expand_dims(y_pred_reshaped, 1)\n",
    "    y_pred_expanded_transposed = keras.ops.transpose(y_pred_expanded, axes=[0, 2, 1, 3])\n",
    "    # Calculate pairwise differences\n",
    "    pred_diff = y_pred_expanded - y_pred_expanded_transposed\n",
    "    # Calculate squared distances\n",
    "    pred_squared_distances = keras.ops.sum(keras.ops.square(pred_diff), axis=-1)\n",
    "    # Take square root to get distances\n",
    "    dist_pred = keras.ops.sqrt(pred_squared_distances)\n",
    "\n",
    "    dist_loss = mse(dist_pred, dist_true)\n",
    "    \n",
    "    msle = keras.ops.square(keras.ops.log(y_true + 1.) - keras.ops.log(y_pred + 1.))\n",
    "    return dist_loss + msle * 1e-2\n",
    "    \n",
    "@saving.register_keras_serializable()\n",
    "def msle_and_inv_dist(y_true, y_pred):\n",
    "    # Expand dimensions to enable broadcasting\n",
    "    y_true_reshaped = keras.ops.reshape(y_true, (-1, keras.ops.cast(keras.ops.shape(y_true)[1]/3,\"int32\"), 3))\n",
    "    y_true_expanded = keras.ops.expand_dims(y_true_reshaped, 1)\n",
    "    y_true_expanded_transposed = keras.ops.transpose(y_true_expanded, axes=[0, 2, 1, 3])\n",
    "    # Calculate pairwise differences\n",
    "    true_diff = y_true_expanded - y_true_expanded_transposed\n",
    "    # Calculate squared distances\n",
    "    true_squared_distances = keras.ops.sum(keras.ops.square(true_diff), axis=-1)\n",
    "    # Take square root to get distances\n",
    "    dist_true = keras.ops.sqrt(true_squared_distances)    \n",
    "\n",
    "    # Expand dimensions to enable broadcasting\n",
    "    y_pred_reshaped = keras.ops.reshape(y_pred, (-1, keras.ops.cast(keras.ops.shape(y_pred)[1]/3,\"int32\"), 3))\n",
    "    y_pred_expanded = keras.ops.expand_dims(y_pred_reshaped, 1)\n",
    "    y_pred_expanded_transposed = keras.ops.transpose(y_pred_expanded, axes=[0, 2, 1, 3])\n",
    "    # Calculate pairwise differences\n",
    "    pred_diff = y_pred_expanded - y_pred_expanded_transposed\n",
    "    # Calculate squared distances\n",
    "    pred_squared_distances = keras.ops.sum(keras.ops.square(pred_diff), axis=-1)\n",
    "    # Take square root to get distances\n",
    "    dist_pred = keras.ops.sqrt(pred_squared_distances)\n",
    "\n",
    "    dist_true_inv = keras.ops.reciprocal(dist_true + 1e-3)\n",
    "    dist_pred_inv = keras.ops.reciprocal(dist_pred + 1e-3)\n",
    "    \n",
    "    dist_inv_loss = mse(dist_pred_inv, dist_true_inv)\n",
    "    \n",
    "    msle = keras.ops.square(keras.ops.log(y_true + 1.) - keras.ops.log(y_pred + 1.))\n",
    "    return dist_inv_loss + msle * 1e-2\n",
    "\n",
    "@saving.register_keras_serializable()\n",
    "class Sampling(keras.layers.Layer):\n",
    "    def __init__(self, noise=0.05):\n",
    "        super().__init__()\n",
    "        self.noise = noise\n",
    "    \n",
    "    def call(self, inputs):\n",
    "        z_mean = inputs\n",
    "        batch = tf.shape(z_mean)[0]\n",
    "        dim = tf.shape(z_mean)[1]\n",
    "        epsilon = keras.random.normal(shape=(batch, dim))\n",
    "        return z_mean +  epsilon * self.noise\n",
    "\n",
    "    def get_config(self):\n",
    "        return {\"noise\": self.noise}"
   ]
  },
  {
   "cell_type": "markdown",
   "id": "cca550a5-722e-4ea2-9127-4fd74d8ec485",
   "metadata": {},
   "source": [
    "The architecture of the autoencoder is defined here"
   ]
  },
  {
   "cell_type": "code",
   "execution_count": null,
   "id": "d1f0fb14-8f5e-479b-9b67-fbe9d0151f6e",
   "metadata": {},
   "outputs": [],
   "source": [
    "latent_space = 2\n",
    "activation = \"elu\"\n",
    "\n",
    "#encoder\n",
    "encoder_inputs = keras.Input(shape=(x_train.shape[1],))\n",
    "encoder_diff_ref = keras.ops.subtract(encoder_inputs, ref_str)\n",
    "\n",
    "#ehl1 = layers.Dense(1024*3, activation=activation)(encoder_diff_ref)\n",
    "#ebn1 = layers.BatchNormalization()(ehl1)\n",
    "#\n",
    "#ehl2 = layers.Dense(1024, activation=activation)(ebn1)\n",
    "#ebn2 = layers.BatchNormalization()(ehl2)\n",
    "\n",
    "ehl3 = layers.Dense(512, activation=activation)(encoder_diff_ref)\n",
    "ebn3 = layers.BatchNormalization()(ehl3)\n",
    "\n",
    "ehl4 = layers.Dense(128, activation=activation)(ebn3)\n",
    "ebn4 = layers.BatchNormalization()(ehl4)\n",
    "\n",
    "ehl5 = layers.Dense(32, activation=activation)(ebn4)\n",
    "\n",
    "ehl6 = layers.Dense(8, activation=activation)(ehl5)\n",
    "\n",
    "ls_mean = layers.Dense(latent_space, activation=\"tanh\", name=\"z_mean\")(ehl6)\n",
    "ls = Sampling(noise=0.05)(ls_mean)\n",
    "\n",
    "encoder = keras.Model(encoder_inputs, ls)\n",
    "\n",
    "#decoder\n",
    "decoder_inputs = keras.Input(shape=(latent_space,))\n",
    "\n",
    "dhl1 = layers.Dense(8, activation=activation)(decoder_inputs)\n",
    "\n",
    "dhl2 = layers.Dense(32, activation=activation)(dhl1)\n",
    "\n",
    "dhl3 = layers.Dense(128, activation=activation)(dhl2)\n",
    "dbn3 = layers.BatchNormalization()(dhl3)\n",
    "\n",
    "dhl4 = layers.Dense(512, activation=activation)(dbn3)\n",
    "dbn4 = layers.BatchNormalization()(dhl4)\n",
    "\n",
    "#dhl5 = layers.Dense(1024, activation=activation)(dbn4)\n",
    "#dbn5 = layers.BatchNormalization()(dhl5)\n",
    "#\n",
    "#dhl6 = layers.Dense(1024*3, activation=activation)(dbn5)\n",
    "#dbn6 = layers.BatchNormalization()(dhl6)\n",
    "\n",
    "decoder_outputs = layers.Dense(y_train.shape[1], activation=\"linear\")(dbn4)\n",
    "decoded_structure = keras.ops.add(decoder_outputs, ref_str)\n",
    "\n",
    "decoder = keras.Model(decoder_inputs, decoded_structure)\n",
    "\n",
    "\n",
    "model = keras.Model(encoder_inputs,decoder(encoder(encoder_inputs)))"
   ]
  },
  {
   "cell_type": "code",
   "execution_count": null,
   "id": "4115dd5c-9ed9-448e-8aec-fdaad696fbde",
   "metadata": {},
   "outputs": [],
   "source": [
    "optimizer = keras.optimizers.Adam(learning_rate=1e-3)\n",
    "metrics=[\"mse\", pe_editlog_metric]\n",
    "\n",
    "model.compile(\n",
    "    optimizer=optimizer, \n",
    "    loss=mse, \n",
    "    metrics=metrics\n",
    ")"
   ]
  },
  {
   "cell_type": "markdown",
   "id": "d64f0466-87e9-4d32-b4e0-88d953459f70",
   "metadata": {},
   "source": [
    "Summary of the created models:"
   ]
  },
  {
   "cell_type": "code",
   "execution_count": null,
   "id": "f0582070-1078-4848-b3f3-13b2c9aa3308",
   "metadata": {
    "scrolled": true
   },
   "outputs": [],
   "source": [
    "encoder.summary()\n",
    "decoder.summary()"
   ]
  },
  {
   "cell_type": "code",
   "execution_count": null,
   "id": "cdf65627-1e72-404a-a54e-1fe90fc4e6f3",
   "metadata": {},
   "outputs": [],
   "source": [
    "model.summary()"
   ]
  },
  {
   "cell_type": "code",
   "execution_count": null,
   "id": "d8a6d35c-303a-410b-b2e0-7c209229dafe",
   "metadata": {},
   "outputs": [],
   "source": [
    "callbacks_list = [PlotLearning()]"
   ]
  },
  {
   "cell_type": "markdown",
   "id": "8a001831-5658-457a-9288-27f1c7aed3bf",
   "metadata": {},
   "source": [
    "## Training of the model"
   ]
  },
  {
   "cell_type": "markdown",
   "id": "03afe5b5-657e-4fe9-a657-613e07f8f158",
   "metadata": {},
   "source": [
    "Training with the MSE loss function"
   ]
  },
  {
   "cell_type": "code",
   "execution_count": null,
   "id": "8458f77a-a582-47f7-94c5-02d1d712d64d",
   "metadata": {},
   "outputs": [],
   "source": [
    "model.fit(\n",
    "    xy_train,  \n",
    "    epochs=100,\n",
    "    #batch_size=200,\n",
    "    validation_data=xy_test, \n",
    "    callbacks=callbacks_list\n",
    ")"
   ]
  },
  {
   "cell_type": "code",
   "execution_count": null,
   "id": "0d054a40-bebf-4dfb-bab1-a61027b7181c",
   "metadata": {},
   "outputs": [],
   "source": [
    "model.save(\"./models/m_\"+model_name+\"_unfinished_1.keras\")"
   ]
  },
  {
   "cell_type": "code",
   "execution_count": null,
   "id": "049d62c0-5822-44a4-8652-00352bcb2bf9",
   "metadata": {},
   "outputs": [],
   "source": [
    "model = saving.load_model(\"./models/m_\"+model_name+\"_unfinished_1.keras\")"
   ]
  },
  {
   "cell_type": "markdown",
   "id": "b06b8511-1129-4b0c-8830-432050097057",
   "metadata": {},
   "source": [
    "Fine tuning of the decoder with the loss function minimizing the error in pairwise distances between atoms"
   ]
  },
  {
   "cell_type": "code",
   "execution_count": null,
   "id": "6c1fb85d-2890-43ed-8b33-62edcc9b6f11",
   "metadata": {},
   "outputs": [],
   "source": [
    "model.compile(\n",
    "    optimizer=keras.optimizers.Adam(learning_rate=1e-3), \n",
    "    loss=msle_and_dist, \n",
    "    metrics=metrics,\n",
    "    run_eagerly=True\n",
    ")"
   ]
  },
  {
   "cell_type": "code",
   "execution_count": null,
   "id": "9b02fc90-6c0e-442d-ad7e-33ae496905c0",
   "metadata": {},
   "outputs": [],
   "source": [
    "print(model.layers[-2].layers[-1].noise,encoder.layers[-1].noise)\n",
    "model.layers[-2].trainable = False"
   ]
  },
  {
   "cell_type": "code",
   "execution_count": null,
   "id": "c26ffca9-cf96-4d1f-8fa8-b487b5acfcd3",
   "metadata": {},
   "outputs": [],
   "source": [
    "model.fit(xy_train, epochs=5, validation_data=xy_test, callbacks=callbacks_list)"
   ]
  },
  {
   "cell_type": "code",
   "execution_count": null,
   "id": "675c6feb-97b8-488c-bfca-841066168082",
   "metadata": {},
   "outputs": [],
   "source": [
    "model.save(\"./models/m_\"+model_name+\"_unfinished_2.keras\")"
   ]
  },
  {
   "cell_type": "markdown",
   "id": "e40bd408-c4a7-4425-8cb1-c0e7f9d27e29",
   "metadata": {},
   "source": [
    "Fine tuning of the decoder with the loss function minimizing the error in reciprocal pairwise distances between atoms"
   ]
  },
  {
   "cell_type": "code",
   "execution_count": null,
   "id": "19023779-33f3-4352-91de-d625f1a4e378",
   "metadata": {},
   "outputs": [],
   "source": [
    "model =   saving.load_model(\"./models/m_\"+model_name+\"_unfinished_2.keras\")\n",
    "\n",
    "model.compile(\n",
    "    optimizer=keras.optimizers.Adam(learning_rate=1e-5), \n",
    "    loss=msle_and_inv_dist, \n",
    "    metrics=metrics,\n",
    "    run_eagerly=True\n",
    ")\n",
    "\n",
    "print(model.layers[-2].layers[-1].noise,encoder.layers[-1].noise)\n",
    "model.layers[-2].trainable = False"
   ]
  },
  {
   "cell_type": "code",
   "execution_count": null,
   "id": "e86aac93-3c39-49e5-9b03-1747fd2a8fb6",
   "metadata": {},
   "outputs": [],
   "source": [
    "model.fit(xy_train, epochs=20, validation_data=xy_test, callbacks=callbacks_list)"
   ]
  },
  {
   "cell_type": "markdown",
   "id": "8e5fa75f-fefd-4d51-b744-e660283f4356",
   "metadata": {},
   "source": [
    "Saving of the trained model"
   ]
  },
  {
   "cell_type": "code",
   "execution_count": null,
   "id": "b520f98e-a079-4aed-a217-80c9ae795503",
   "metadata": {},
   "outputs": [],
   "source": [
    "decoder = saving.load_model(\"./models/d_\"+model_name+\".keras\")\n",
    "encoder = saving.load_model(\"./models/e_\"+model_name+\".keras\")\n",
    "model =   saving.load_model(\"./models/m_\"+model_name+\".keras\")"
   ]
  },
  {
   "cell_type": "markdown",
   "id": "e9300196-2336-4ece-aa1d-2bbf68418628",
   "metadata": {},
   "source": [
    "## Latent space visualization"
   ]
  },
  {
   "cell_type": "markdown",
   "id": "72a1d91f-d0d8-4314-b90b-7f7a69f70ada",
   "metadata": {},
   "source": [
    "Calculate the latent space coordinates of selected encoded protein structures. \n",
    "The `colvar` variable should load the properties of the structures from the training dataset - these have to be calculated separately"
   ]
  },
  {
   "cell_type": "code",
   "execution_count": null,
   "id": "9931ea85-f71f-4245-8e4a-a1ac692dc1e0",
   "metadata": {},
   "outputs": [],
   "source": [
    "latent_space=2\n",
    "each = 5\n",
    "latents = encoder.predict(data[::each,:])\n",
    "\n",
    "colvar = np.loadtxt(\"../data/\"+system_name+\"_rmsd_ds.xvg\")\n",
    "\n",
    "plt.scatter(latents[:,0],latents[:,1], c=colvar[::each*data_density,1], cmap=\"jet\", s=1)\n",
    "cbar = plt.colorbar()\n",
    "cbar.set_label(\"RMSD (nm)\")\n",
    "plt.xlabel(\"latent value 1\")\n",
    "plt.ylabel(\"latent value 2\")\n",
    "#plt.title(\"RMSD\")\n",
    "axes = plt.gca()\n",
    "#axes.set(xlim=([-1.5,1.5]))\n",
    "#axes.set(ylim=([-1.5,1.5]))\n",
    "plt.savefig(system_name+\"ls_rmsd.png\")"
   ]
  },
  {
   "cell_type": "code",
   "execution_count": null,
   "id": "8a72ccf6-9cd0-454c-8a42-9fe40c677bb7",
   "metadata": {},
   "outputs": [],
   "source": [
    "encoded = encoder(data[0,:].reshape((1,y_train.shape[1])))\n",
    "np.save(\"models/encoded_reference_\"+model_name+\".npy\", encoded.numpy())"
   ]
  },
  {
   "cell_type": "markdown",
   "id": "f68c8e58-a2f9-4aa8-b517-4f72538db382",
   "metadata": {},
   "source": [
    "Plotting the coordinates of the encoded structures with coloring based on selected proterties"
   ]
  },
  {
   "cell_type": "code",
   "execution_count": null,
   "id": "8ab721f6-8722-434c-940f-f99066f971b3",
   "metadata": {},
   "outputs": [],
   "source": [
    "plt.scatter(latents[:,0],latents[:,1], c=colvar[::each*data_density,1], cmap=\"jet\", s=1)\n",
    "cbar = plt.colorbar()\n",
    "cbar.set_label(\"RMSD (nm)\")\n",
    "plt.xlabel(\"latent value 0\")\n",
    "plt.ylabel(\"latent value 1\")\n",
    "plt.title(\"RMSD\")\n",
    "axes = plt.gca()\n",
    "#axes.set(xlim=([-1.5,1.5]))\n",
    "#axes.set(ylim=([-1.5,1.5]))\n",
    "plt.savefig(\"ls_rmsd.png\")"
   ]
  },
  {
   "cell_type": "code",
   "execution_count": null,
   "id": "ceec29ea-edf3-4d8f-9fa4-ec284e1c698d",
   "metadata": {},
   "outputs": [],
   "source": [
    "plt.scatter(latents[:,0],latents[:,1], c=colvar[::each*data_density,2], cmap=\"jet\", s=1)\n",
    "cbar = plt.colorbar()\n",
    "cbar.set_label(\"radius of gyration (nm)\")\n",
    "plt.xlabel(\"latent value 0\")\n",
    "plt.ylabel(\"latent value 1\")\n",
    "plt.title(\"Radius of gyration\")\n",
    "axes = plt.gca()\n",
    "#axes.set(xlim=([-1.5,1.5]))\n",
    "#axes.set(ylim=([-1.5,1.5]))\n",
    "plt.savefig(\"ls_rg.png\")"
   ]
  },
  {
   "cell_type": "code",
   "execution_count": null,
   "id": "adbb1eda-1e59-4e46-b3c6-f92f29464841",
   "metadata": {},
   "outputs": [],
   "source": [
    "plt.scatter(latents[:,0],latents[:,1], c=colvar[::each*data_density,3], cmap=\"jet\", s=1)\n",
    "cbar = plt.colorbar()\n",
    "cbar.set_label(\"Alpha RMSD (nm)\")\n",
    "plt.xlabel(\"latent value 0\")\n",
    "plt.ylabel(\"latent value 1\")\n",
    "plt.title(\"Alpha helix content\")\n",
    "axes = plt.gca()\n",
    "#axes.set(xlim=([-1.5,1.5]))\n",
    "#axes.set(ylim=([-1.5,1.5]))\n",
    "plt.savefig(\"ls_alpha.png\")"
   ]
  },
  {
   "cell_type": "code",
   "execution_count": null,
   "id": "1e6f1011-76fd-4351-b5d0-2f1a19dac15a",
   "metadata": {},
   "outputs": [],
   "source": [
    "plt.scatter(latents[:,0],latents[:,1], c=colvar[::each*data_density,4], cmap=\"jet\", s=1)\n",
    "cbar = plt.colorbar()\n",
    "cbar.set_label(\"Anti-beta RMSD (nm)\")\n",
    "plt.xlabel(\"latent value 0\")\n",
    "plt.ylabel(\"latent value 1\")\n",
    "plt.title(\"Antiparallel beta sheet content\")\n",
    "axes = plt.gca()\n",
    "#axes.set(xlim=([-1.5,1.5]))\n",
    "#axes.set(ylim=([-1.5,1.5]))\n",
    "plt.savefig(\"ls_antibeta.png\")"
   ]
  },
  {
   "cell_type": "code",
   "execution_count": null,
   "id": "9c2b2e35-e297-480d-9ab9-f6d0c286ca78",
   "metadata": {},
   "outputs": [],
   "source": [
    "plt.scatter(latents[:,0],latents[:,1], c=colvar[::each*data_density,5], cmap=\"jet\", s=1)\n",
    "cbar = plt.colorbar()\n",
    "cbar.set_label(\"Para-beta RMSD (nm)\")\n",
    "plt.xlabel(\"latent value 0\")\n",
    "plt.ylabel(\"latent value 1\")\n",
    "plt.title(\"Parallel beta sheet content\")\n",
    "axes = plt.gca()\n",
    "#axes.set(xlim=([-1.5,1.5]))\n",
    "#axes.set(ylim=([-1.5,1.5]))\n",
    "plt.savefig(\"ls_parabeta.png\")"
   ]
  },
  {
   "cell_type": "code",
   "execution_count": null,
   "id": "b88bbaf2-cbae-40ef-a2a6-daa654014a9f",
   "metadata": {},
   "outputs": [],
   "source": []
  }
 ],
 "metadata": {
  "kernelspec": {
   "display_name": "ae",
   "language": "python",
   "name": "ae"
  },
  "language_info": {
   "codemirror_mode": {
    "name": "ipython",
    "version": 3
   },
   "file_extension": ".py",
   "mimetype": "text/x-python",
   "name": "python",
   "nbconvert_exporter": "python",
   "pygments_lexer": "ipython3",
   "version": "3.11.9"
  }
 },
 "nbformat": 4,
 "nbformat_minor": 5
}
