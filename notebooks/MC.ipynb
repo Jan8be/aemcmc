{
 "cells": [
  {
   "cell_type": "markdown",
   "id": "89cacdc8-bcd4-46a5-a79d-ec11412c628f",
   "metadata": {},
   "source": [
    "# Monte-Carlo Simulation"
   ]
  },
  {
   "cell_type": "markdown",
   "id": "c90d8e95-4d2e-4cd4-8807-d7383de2246d",
   "metadata": {},
   "source": [
    "Import necessary packages"
   ]
  },
  {
   "cell_type": "code",
   "execution_count": null,
   "id": "5f2495a0-2e54-4854-87bc-cc54261a0d25",
   "metadata": {
    "editable": true,
    "slideshow": {
     "slide_type": ""
    },
    "tags": []
   },
   "outputs": [],
   "source": [
    "from openmm.app import *\n",
    "from openmm import *\n",
    "from openmm.unit import *\n",
    "import openmm\n",
    "import numpy as np\n",
    "import tensorflow as tf\n",
    "from tensorflow import keras\n",
    "import scipy.constants as sc\n",
    "from matplotlib import pyplot as plt\n",
    "import os\n",
    "from IPython.display import clear_output\n",
    "from scipy.interpolate import RegularGridInterpolator\n",
    "import MDAnalysis as mda\n",
    "from MDAnalysis.analysis import rms\n",
    "import jupyter_beeper\n",
    "beep = jupyter_beeper.Beeper()\n",
    "import copy"
   ]
  },
  {
   "cell_type": "markdown",
   "id": "91d928de-073b-4995-ae6d-e1d317992b44",
   "metadata": {},
   "source": [
    "Define system name and system-specific functions"
   ]
  },
  {
   "cell_type": "code",
   "execution_count": null,
   "id": "02c55828-837f-4cb2-8478-65bf4fa074ea",
   "metadata": {},
   "outputs": [],
   "source": [
    "system_name = \"trpcage\""
   ]
  },
  {
   "cell_type": "code",
   "execution_count": null,
   "id": "b801c040-0b9e-4305-9b61-4ac177e1674c",
   "metadata": {},
   "outputs": [],
   "source": [
    "os.system(\"pwd\")"
   ]
  },
  {
   "cell_type": "code",
   "execution_count": null,
   "id": "d14e175d-ce87-4206-8c5a-490320b0208d",
   "metadata": {},
   "outputs": [],
   "source": [
    "cpu_platform = Platform.getPlatformByName('CPU')\n",
    "cuda_platform = Platform.getPlatformByName('CUDA')"
   ]
  },
  {
   "cell_type": "code",
   "execution_count": null,
   "id": "6e6160af-b91c-4476-b13f-09da15d77aa9",
   "metadata": {},
   "outputs": [],
   "source": [
    "print(\"Num GPUs Available: \", len(tf.config.experimental.list_physical_devices('GPU')))"
   ]
  },
  {
   "cell_type": "code",
   "execution_count": null,
   "id": "148a3e7c-52e7-40a7-9f6d-233018bb95f7",
   "metadata": {
    "editable": true,
    "slideshow": {
     "slide_type": ""
    },
    "tags": []
   },
   "outputs": [],
   "source": [
    "model_name = \"n_5e-2_4\"\n",
    "decoder_name = \"d_\"+model_name\n",
    "encoder_name = \"e_\"+model_name"
   ]
  },
  {
   "cell_type": "code",
   "execution_count": null,
   "id": "97ee2db3-f8b2-4cec-a8d1-f6661dbe46e3",
   "metadata": {
    "editable": true,
    "slideshow": {
     "slide_type": ""
    },
    "tags": []
   },
   "outputs": [],
   "source": [
    "def Standardize(x):\n",
    "    x = np.array(x)\n",
    "    if system_name == \"trpcage\":\n",
    "        result = (x + 1.0)/6\n",
    "    elif system_name == \"villin\":\n",
    "        result = (x + 2.0)/9\n",
    "    elif system_name == \"pdz\":\n",
    "        result = (x - 1.5)/9\n",
    "    return result\n",
    "\n",
    "def Unstandardize(x):\n",
    "    x = np.array(x)\n",
    "    if system_name == \"trpcage\":\n",
    "        result = (x * 6) + 1.0\n",
    "    elif system_name == \"villin\":\n",
    "        result = (x * 9) - 2.0\n",
    "    elif system_name == \"pdz\":\n",
    "        result = (x * 9) + 1.5\n",
    "    return result"
   ]
  },
  {
   "cell_type": "markdown",
   "id": "9aab9023-5df5-4794-8691-815c2e91ddea",
   "metadata": {},
   "source": [
    "Define MCMC acceptance function"
   ]
  },
  {
   "cell_type": "code",
   "execution_count": null,
   "id": "e8cf7c46-a18e-49e8-ad10-695ae9afe834",
   "metadata": {},
   "outputs": [],
   "source": [
    "def MCAccept(e1, e2, temp):\n",
    "    try:\n",
    "        if e2.value_in_unit(kilojoule/mole) < -1e5:\n",
    "            print(\"Warning: Pot. E. attempt under -1e+5\\n\")\n",
    "            return False\n",
    "    except:\n",
    "        ...\n",
    "\n",
    "    try:\n",
    "        e2 = e2.value_in_unit(joule/mole)\n",
    "    except:\n",
    "        ...\n",
    "    try:\n",
    "        e1 = e1.value_in_unit(joule/mole)\n",
    "    except:\n",
    "        ...\n",
    "        \n",
    "    deltaE = e2 - e1\n",
    "    \n",
    "    if deltaE < 0:\n",
    "        return True\n",
    "    else:\n",
    "        boltzmann_factor = np.exp(-deltaE / (8.314 * temp))\n",
    "        rn = np.random.uniform()\n",
    "        #print(f\"dE = {deltaE}, BF = {boltzmann_factor}, random number = {rn}, \", end=\"\\t\")\n",
    "        if  rn < boltzmann_factor:\n",
    "            return True\n",
    "        else:\n",
    "            return False"
   ]
  },
  {
   "cell_type": "markdown",
   "id": "35ae1b16-8219-4212-8d0e-78767bf2b7b6",
   "metadata": {},
   "source": [
    "Custom potential energy minimization procedure"
   ]
  },
  {
   "cell_type": "code",
   "execution_count": null,
   "id": "4ca01619-fb53-4b73-972e-25d6a592ba5a",
   "metadata": {},
   "outputs": [],
   "source": [
    "class GradientDescentMinimizationIntegrator(CustomIntegrator):\n",
    "\n",
    "    \"\"\"Simple gradient descent minimizer implemented as an integrator.\n",
    "\n",
    "    Examples\n",
    "    --------\n",
    "\n",
    "    Create a gradient descent minimization integrator.\n",
    "\n",
    "    >>> integrator = GradientDescentMinimizationIntegrator()\n",
    "\n",
    "    \"\"\"\n",
    "\n",
    "    def __init__(self, initial_step_size=0.01 * angstroms, p1 = 1.2, p2 = 0.5):\n",
    "        \"\"\"\n",
    "        Construct a simple gradient descent minimization integrator.\n",
    "    \n",
    "        Parameters\n",
    "        ----------\n",
    "        initial_step_size : np.unit.Quantity compatible with nanometers, default: 0.01*unit.angstroms\n",
    "           The norm of the initial step size guess.\n",
    "    \n",
    "        Notes\n",
    "        -----\n",
    "        An adaptive step size is used.\n",
    "    \n",
    "        \"\"\"\n",
    "    \n",
    "        timestep = 1.0 * femtoseconds\n",
    "        super(GradientDescentMinimizationIntegrator, self).__init__(timestep)\n",
    "\n",
    "        self.addGlobalVariable(\"step_size\", initial_step_size / nanometers)\n",
    "        self.addGlobalVariable(\"energy_old\", 0)\n",
    "        self.addGlobalVariable(\"energy_new\", 0)\n",
    "        self.addGlobalVariable(\"delta_energy\", 0)\n",
    "        self.addGlobalVariable(\"accept\", 0)\n",
    "        self.addGlobalVariable(\"fnorm2\", 0)\n",
    "        self.addPerDofVariable(\"x_old\", 0)\n",
    "        \n",
    "        self.addGlobalVariable(\"p1\", p1)\n",
    "        self.addGlobalVariable(\"p2\", p2)\n",
    "\n",
    "        # Update context state.\n",
    "        self.addUpdateContextState()\n",
    "\n",
    "        # Constrain positions.\n",
    "        self.addConstrainPositions()\n",
    "        \n",
    "        # Store old energy and positions.\n",
    "        self.addComputeGlobal(\"energy_old\", \"energy\")\n",
    "        self.addComputePerDof(\"x_old\", \"x\")\n",
    "\n",
    "        # Compute sum of squared norm.\n",
    "        self.addComputeSum(\"fnorm2\", \"f^2\")\n",
    "\n",
    "        # Take step.\n",
    "        self.addComputePerDof(\"x\", \"x+step_size*0.1*f/(sqrt(fnorm2 + delta(fnorm2)))\")\n",
    "        self.addComputeSum(\"fnorm2\", \"f^2\")\n",
    "\n",
    "        # Take step.\n",
    "        self.addComputePerDof(\"x\", \"x+step_size*0.2*f/(sqrt(fnorm2 + delta(fnorm2)))\")\n",
    "        self.addComputeSum(\"fnorm2\", \"f^2\")\n",
    "\n",
    "        # Take step.\n",
    "        self.addComputePerDof(\"x\", \"x+step_size*0.3*f/(sqrt(fnorm2 + delta(fnorm2)))\")\n",
    "        self.addComputeSum(\"fnorm2\", \"f^2\")\n",
    "\n",
    "        # Take step.\n",
    "        self.addComputePerDof(\"x\", \"x+step_size*0.4*f/(sqrt(fnorm2 + delta(fnorm2)))\")\n",
    "        self.addComputeSum(\"fnorm2\", \"f^2\")\n",
    "\n",
    "        # Take step.\n",
    "        self.addComputePerDof(\"x\", \"x+step_size*0.5*f/(sqrt(fnorm2 + delta(fnorm2)))\")\n",
    "        self.addConstrainPositions()\n",
    "\n",
    "        # Ensure we only keep steps that go downhill in energy.\n",
    "        self.addComputeGlobal(\"energy_new\", \"energy\")\n",
    "        self.addComputeGlobal(\"delta_energy\", \"energy_new-energy_old-0.00000001\")\n",
    "        # \n",
    "        self.addComputeGlobal(\"accept\", \"step(-delta_energy) * delta(energy - energy_new)\")\n",
    "\n",
    "        self.addComputePerDof(\"x\", \"accept*x + (1-accept)*(x_old+0.0001*(step(f)-step(-f)))\")\n",
    "\n",
    "        # Update step size.\n",
    "        self.addComputeGlobal(\"step_size\", \"step_size * (p1*accept + p2*(1-accept))\")"
   ]
  },
  {
   "cell_type": "markdown",
   "id": "55def9ec-c160-425b-b3c5-e41afd8fd200",
   "metadata": {},
   "source": [
    "## Load the trained decoder"
   ]
  },
  {
   "cell_type": "code",
   "execution_count": null,
   "id": "3270fde5-bcaf-4261-9d4d-c67c8231356c",
   "metadata": {
    "editable": true,
    "slideshow": {
     "slide_type": ""
    },
    "tags": []
   },
   "outputs": [],
   "source": [
    "#load decoder model\n",
    "decoder = tf.keras.models.load_model(\"../ae/models/\"+decoder_name+\".keras\")\n",
    "#decoder = tf.keras.models.load_model('tarkil_training/models/decoder_mse_then_dist')"
   ]
  },
  {
   "cell_type": "markdown",
   "id": "ed072fe7-85e3-4add-8c8e-b04865ccda39",
   "metadata": {},
   "source": [
    "Initialize OpenMM simulation systems"
   ]
  },
  {
   "cell_type": "code",
   "execution_count": null,
   "id": "ac48bbdb-5a62-4018-bc67-71734a0b2185",
   "metadata": {
    "editable": true,
    "slideshow": {
     "slide_type": ""
    },
    "tags": []
   },
   "outputs": [],
   "source": [
    "output_trj = \"output_\"+system_name+\"_\"+model_name+\".pdb\"\n",
    "\n",
    "pdb = PDBFile(\"../data/\"+system_name+\"_reference.pdb\")\n",
    "\n",
    "forcefield = ForceField('amber14-all.xml', 'implicit/gbn2.xml')\n",
    "\n",
    "#modeller = Modeller(pdb.topology, pdb.positions)\n",
    "#modeller.addHydrogens(forcefield)"
   ]
  },
  {
   "cell_type": "code",
   "execution_count": null,
   "id": "cb1bfc55-1030-452f-b0e9-86583b26bbb6",
   "metadata": {
    "editable": true,
    "slideshow": {
     "slide_type": ""
    },
    "tags": []
   },
   "outputs": [],
   "source": [
    "system = forcefield.createSystem(pdb.topology, nonbondedMethod=NoCutoff)\n",
    "integrator = LangevinMiddleIntegrator(300*kelvin, 1/picosecond, 0.002*picoseconds)#0.002*picoseconds)\n",
    "#simulation = Simulation(pdb.topology, system, integrator, platform=cuda_platform)\n",
    "simulation = Simulation(pdb.topology, system, integrator, platform=cpu_platform)\n",
    "simulation.reporters.append(PDBReporter(output_trj, 500))\n",
    "\n",
    "# system for evaluations of potential enegrgy\n",
    "eval_system = forcefield.createSystem(pdb.topology,nonbondedMethod=NoCutoff)\n",
    "eval_integrator = LangevinMiddleIntegrator(300*kelvin, 1/picosecond, 0.002*picoseconds)#0.002*picoseconds)\n",
    "eval_simulation = Simulation(pdb.topology, eval_system, eval_integrator)\n",
    "\n",
    "mels_system = forcefield.createSystem(pdb.topology, nonbondedMethod=NoCutoff)\n",
    "mels_integrator = LangevinMiddleIntegrator(300*kelvin, 1/picosecond, 0.002*picoseconds)\n",
    "mels_simulation = Simulation(pdb.topology, mels_system, mels_integrator, platform=cpu_platform)\n",
    "mels_simulation.reporters.append(PDBReporter(f\"mels_{output_trj}\", 500))"
   ]
  },
  {
   "cell_type": "code",
   "execution_count": null,
   "id": "9fa406f1-fafd-48f9-a29c-c5dbf94dc758",
   "metadata": {},
   "outputs": [],
   "source": [
    "# initial structure with topology from reference\n",
    "simulation.context.setPositions(pdb.positions)\n",
    "state = simulation.context.getState(getEnergy=True, getPositions=True)\n",
    "print(state.getPotentialEnergy())\n",
    "simulation.reporters[0].report(simulation, state)"
   ]
  },
  {
   "cell_type": "code",
   "execution_count": null,
   "id": "5346b91b-dfd7-4825-a0d8-d828d5d4a834",
   "metadata": {
    "editable": true,
    "slideshow": {
     "slide_type": ""
    },
    "tags": []
   },
   "outputs": [],
   "source": [
    "# initial structure from native decoded structure instead\n",
    "latent_space = np.load(\"../ae/models/encoded_reference_\"+model_name + \".npy\") # folded\n",
    "#latent_space = np.load(\"tarkil_training/encoded_fold_decoder_mse_then_dist.npy\")\n",
    "#latent_space = np.random.normal(size = ((1, 64)))\n",
    "# latent_space = np.array([[ -1.8, -3.2,  0.2, -0.6,  0.6, 1.8, -1.5, 0.3]]) # unfolded\n",
    "#latent_space = Rmsd_ls(latent_space = latent_space, histograms = histograms, rmsd=0.12)\n",
    "#latent_space = np.array([[-1.0,+1.0]])\n",
    "\n",
    "pos = decoder(latent_space).numpy().transpose()\n",
    "#pos = np.load(\"some_structure.npy\")\n",
    "print(latent_space.shape)\n",
    "print(pos.shape)\n",
    "pos = Unstandardize(pos.reshape((int(pos.shape[0]/3), 3)).tolist())"
   ]
  },
  {
   "cell_type": "code",
   "execution_count": null,
   "id": "cd2a89bf-d338-4119-a0e9-22d4ff601d19",
   "metadata": {},
   "outputs": [],
   "source": [
    "%%time\n",
    "simulation.context.setPositions(pos)\n",
    "simulation.minimizeEnergy(maxIterations=200, tolerance = 4.0e2)\n",
    "state = simulation.context.getState(getEnergy=True, getPositions=True)\n",
    "E = state.getPotentialEnergy()\n",
    "#simulation.reporters[0].report(simulation, state)\n",
    "E = E.value_in_unit(joule/mole)\n",
    "print(E/1000)"
   ]
  },
  {
   "cell_type": "markdown",
   "id": "ea38b70c-b184-4464-ac98-02042249c981",
   "metadata": {},
   "source": [
    "## Precalculate the protein structures on latent space"
   ]
  },
  {
   "cell_type": "markdown",
   "id": "00ced45f-39f1-4514-be99-2f318ba15b98",
   "metadata": {},
   "source": [
    "Define the matrix on the latent space to precalculate protein structures"
   ]
  },
  {
   "cell_type": "code",
   "execution_count": null,
   "id": "76e6d53c-fcdd-4391-b83c-c3ea211ac4ea",
   "metadata": {},
   "outputs": [],
   "source": [
    "matrix_res = 64"
   ]
  },
  {
   "cell_type": "code",
   "execution_count": null,
   "id": "ff1529aa-db28-4c06-ad9d-7e46f10b1531",
   "metadata": {},
   "outputs": [],
   "source": [
    "LS_matrix = np.zeros((matrix_res,matrix_res,latent_space.shape[1]))\n",
    "LS_matrix_pos = np.zeros((matrix_res,matrix_res, pos.shape[0]*pos.shape[1]))\n",
    "LS_matrix_pos_min = np.zeros((matrix_res,matrix_res, pos.shape[0]*pos.shape[1]))\n",
    "LS_matrix_E = np.zeros((matrix_res,matrix_res))\n",
    "LS_matrix_E_min = np.zeros((matrix_res,matrix_res))"
   ]
  },
  {
   "cell_type": "code",
   "execution_count": null,
   "id": "5fa7d3ad-4533-4983-97fb-ef4409de3977",
   "metadata": {
    "scrolled": true
   },
   "outputs": [],
   "source": [
    "%%time\n",
    "# calculate pot. E for predicted structures\n",
    "m_energies_list = []\n",
    "frame = 1\n",
    "\n",
    "# system for matrix frames\n",
    "custom_force = CustomNonbondedForce(\"step(tr - r) * k * (tr - r)^2\")\n",
    "custom_force.addGlobalParameter(\"tr\", 0.095 * nanometers)\n",
    "custom_force.addGlobalParameter(\"k\", 100000.0)\n",
    "custom_force.addInteractionGroup(range(pdb.getPositions(asNumpy=True)._value.shape[0]),range(pdb.getPositions(asNumpy=True)._value.shape[0]))\n",
    "\n",
    "m_system = forcefield.createSystem(pdb.topology)\n",
    "\n",
    "for _ in range(pdb.getPositions(asNumpy=True)._value.shape[0]):\n",
    "    custom_force.addParticle(())\n",
    "\n",
    "m_system.addForce(custom_force)\n",
    "\n",
    "m_integrator = GradientDescentMinimizationIntegrator(initial_step_size=1e3 * angstroms, p1=1.01, p2=0.5)\n",
    "m_simulation = Simulation(pdb.topology, m_system, m_integrator, platform=cuda_platform)\n",
    "m_simulation.reporters.append(PDBReporter(\"matrix_\"+str(matrix_res)+\"_\"+output_trj, 1e10))\n",
    "\n",
    "m_simulation.context.setPositions(pdb.positions)\n",
    "m_state = simulation.context.getState(getEnergy=True, getPositions=True)\n",
    "#print(state.getPotentialEnergy())\n",
    "m_simulation.reporters[0].report(m_simulation, m_state)\n",
    "\n",
    "lbfgs_system = forcefield.createSystem(pdb.topology)\n",
    "lbfgs_integrator = LangevinMiddleIntegrator(300*kelvin, 1/picosecond, 0.002*picoseconds)\n",
    "lbfgs_simulation = Simulation(pdb.topology, lbfgs_system, lbfgs_integrator)\n",
    "\n",
    "try: \n",
    "    LS_matrix_pos = np.load(f\"LS_matrix_{matrix_res}_pos.npy\")\n",
    "    print(\"Loaded decoder outputs\\n\")\n",
    "except:\n",
    "    for i in range(matrix_res):\n",
    "        LS_matrix[i,:,0] = -1.25+2.5*i/matrix_res\n",
    "    for i in range(matrix_res):\n",
    "        LS_matrix[:,i,1] = -1.25+2.5*i/matrix_res\n",
    "    # encoder predicts atom positions\n",
    "    for i in range(matrix_res):\n",
    "        print(i, end=\"\\r\")\n",
    "        for j in range(matrix_res):\n",
    "            LS_matrix_pos[i,j,:] = decoder(LS_matrix[i,j,:].reshape((1,2))).numpy().reshape(pos.shape[0]*pos.shape[1])\n",
    "    np.save(f\"LS_matrix_{matrix_res}_pos.npy\", LS_matrix_pos)\n",
    "try:\n",
    "    LS_matrix_E_min = np.load(f\"LS_matrix_{matrix_res}_E_min.npy\")\n",
    "    LS_matrix_pos_min = np.load(f\"LS_matrix_{matrix_res}_pos_min.npy\")\n",
    "except:\n",
    "    for i in range(matrix_res):\n",
    "        #print(i, end=\"\\r\")\n",
    "        for j in range(matrix_res):\n",
    "            #try:\n",
    "            pos = LS_matrix_pos[i,j,:]\n",
    "            pos = Unstandardize(pos.reshape((int(pos.shape[0]/3), 3)))\n",
    "            m_simulation.context.reinitialize()\n",
    "            m_simulation.context.setPositions(pos)\n",
    "            m_simulation.integrator.setGlobalVariableByName('step_size', 1e2)\n",
    "            \n",
    "            for s in range(1000):\n",
    "                m_simulation.step(1)\n",
    "                m_state = m_simulation.context.getState(getForces=True, getEnergy=True)\n",
    "                m_force_components = m_state.getForces(asNumpy=True)._value\n",
    "                m_max_force = m_force_components.max()\n",
    "                if m_max_force < 400:\n",
    "                    break\n",
    "            if m_max_force >= 400:\n",
    "            # if Steepest Descent fails to minimize, try short L-BFGS and thes SD again\n",
    "                print(\"Trying L-BFGS... \", end = \"\")\n",
    "                lbfgs_simulation.context.reinitialize()\n",
    "                lbfgs_simulation.context.setPositions(pos)\n",
    "                lbfgs_simulation.minimizeEnergy(maxIterations=100, tolerance=1e4)\n",
    "                lbfgs_state = lbfgs_simulation.context.getState(getPositions=True, getEnergy=True)\n",
    "                lbfgs_positions = lbfgs_state.getPositions()\n",
    "                print(f\"energy: {lbfgs_state.getPotentialEnergy()}, switching back to SD\")\n",
    "                m_simulation.context.reinitialize()\n",
    "                m_simulation.context.setPositions(lbfgs_positions)\n",
    "                m_simulation.integrator.setGlobalVariableByName('step_size', 1e2)\n",
    "                \n",
    "                for s in range(1000):\n",
    "                    m_simulation.step(1)\n",
    "                    m_state = m_simulation.context.getState(getForces=True, getEnergy=True)\n",
    "                    m_force_components = m_state.getForces(asNumpy=True)._value\n",
    "                    m_max_force = m_force_components.max()\n",
    "                    if m_max_force < 400:\n",
    "                        break\n",
    "                        \n",
    "            m_state = m_simulation.context.getState(getEnergy=True, getPositions=True)\n",
    "            m_E = m_state.getPotentialEnergy()\n",
    "            m_simulation.reporters[0].report(m_simulation, m_state)\n",
    "            \n",
    "            LS_matrix_pos_min[i,j,:] = np.array(m_state.getPositions()._value).reshape(pos.shape[0]*pos.shape[1])\n",
    "            LS_matrix_E_min[i,j] = m_E.value_in_unit(joule/mole)\n",
    "            print(f\"{i},{j}, energy: {m_E.value_in_unit(kilojoule/mole)}, frame = {frame}.\")#, end=\"\\r\")\n",
    "            frame += 1\n",
    "            m_energies_list.append(m_E.value_in_unit(kilojoule/mole))\n",
    "            #except:\n",
    "                #print(f\"{i},{j} Openmm minimization failed.\", end=\"\")\n",
    "                ##m_E = m_state.getPotentialEnergy()\n",
    "                #m_simulation.context.setPositions(pos)\n",
    "                #m_state = m_simulation.context.getState(getPositions=True)\n",
    "                #m_simulation.reporters[0].report(m_simulation, m_state)\n",
    "                #LS_matrix_pos_min[i,j,:] = np.array(m_state.getPositions()._value).reshape(pos.shape[0]*pos.shape[1])\n",
    "                \n",
    "                #LS_matrix_E_min[i,j] = 1e10#m_E.value_in_unit(joule/mole)\n",
    "                #print(f\"{i},{j}, energy (---- failed ----): {1e10}, frame = {frame}.\")#, end=\"\\r\")\n",
    "                #frame += 1\n",
    "                #m_energies_list.append(1e10)\n",
    "\n",
    "    \n",
    "    beep.beep(secs=0.3, blocking=True)\n",
    "    beep.beep(secs=0.5)\n",
    "    np.save(f\"LS_matrix_{matrix_res}_E_min.npy\", LS_matrix_E_min)\n",
    "    np.save(f\"LS_matrix_{matrix_res}_pos_min.npy\", LS_matrix_pos_min)"
   ]
  },
  {
   "cell_type": "code",
   "execution_count": null,
   "id": "b1f1325e-4024-4d93-a401-efdc78b20063",
   "metadata": {},
   "outputs": [],
   "source": [
    "np.min(LS_matrix_E_min)/1000, np.max(LS_matrix_E_min)/1000"
   ]
  },
  {
   "cell_type": "markdown",
   "id": "78b046e1-758f-4add-9853-25eac2e1fa8f",
   "metadata": {},
   "source": [
    "Loop up where on the latent space are structures with lowest potential energies (This also shows potentional errors in the energy minimization). "
   ]
  },
  {
   "cell_type": "code",
   "execution_count": null,
   "id": "fbc277e8-5115-48eb-addb-89d616869933",
   "metadata": {},
   "outputs": [],
   "source": [
    "# ith lowest value is where?\n",
    "for i in range(10):\n",
    "    ii = np.where(np.sort(LS_matrix_E_min.ravel())[i] == LS_matrix_E_min)[0][0]\n",
    "    ij = np.where(np.sort(LS_matrix_E_min.ravel())[i] == LS_matrix_E_min)[1][0]\n",
    "    print(ii, ij, LS_matrix_E_min[ii,ij]/1000)"
   ]
  },
  {
   "cell_type": "markdown",
   "id": "0157c03f-3062-4e11-b581-b9462831cabc",
   "metadata": {},
   "source": [
    "If any potential energies are lower than -5 MJ/mol, this is likely due to an error in the calculation:"
   ]
  },
  {
   "cell_type": "code",
   "execution_count": null,
   "id": "6be0dbca-2995-4b8f-ba60-aa2c60eff8cd",
   "metadata": {},
   "outputs": [],
   "source": [
    "LS_matrix_E_min[LS_matrix_E_min < -5e6] = -LS_matrix_E_min[LS_matrix_E_min < -5e6]"
   ]
  },
  {
   "cell_type": "code",
   "execution_count": null,
   "id": "35c7f02d-82d0-437e-8d4d-e5a9a5a86cb5",
   "metadata": {},
   "outputs": [],
   "source": [
    "LS_matrix_E_min = np.nan_to_num(LS_matrix_E_min, nan=1e8)"
   ]
  },
  {
   "cell_type": "code",
   "execution_count": null,
   "id": "0f809de2-8bd0-45c8-8d62-426cf66c7e7f",
   "metadata": {},
   "outputs": [],
   "source": [
    "# ith lowest value is where?\n",
    "for i in range(10):\n",
    "    ii = np.where(np.sort(LS_matrix_E_min.ravel())[i] == LS_matrix_E_min)[0][0]\n",
    "    ij = np.where(np.sort(LS_matrix_E_min.ravel())[i] == LS_matrix_E_min)[1][0]\n",
    "    print(ii, ij, LS_matrix_E_min[ii,ij]/1000)"
   ]
  },
  {
   "cell_type": "markdown",
   "id": "d2322acb-ec71-47e6-bdb4-f9cee6dd3562",
   "metadata": {},
   "source": [
    "Plot the potential energies of decoded and minimized structures"
   ]
  },
  {
   "cell_type": "code",
   "execution_count": null,
   "id": "8c1e138f-9705-4b47-8741-8edd45a8a4be",
   "metadata": {},
   "outputs": [],
   "source": [
    "plt.imshow(np.rot90(LS_matrix_E_min/1000, axes=(0,1)), vmax=np.min(LS_matrix_E_min/1000)+5e3, vmin=None, cmap=\"viridis\", extent=[-1.25, 1.25, -1.25, 1.25])\n",
    "plt.xlabel(\"latent value 1\")\n",
    "plt.ylabel(\"latent value 2\")\n",
    "plt.colorbar()"
   ]
  },
  {
   "cell_type": "markdown",
   "id": "3a4cef38-bde1-401a-8ad1-0b1820e3234e",
   "metadata": {},
   "source": [
    "Calculate the RMSD of decoded and minimized structures from the native structure"
   ]
  },
  {
   "cell_type": "code",
   "execution_count": null,
   "id": "bfe0006e-84b4-4e40-b462-a449f84c52f5",
   "metadata": {},
   "outputs": [],
   "source": [
    "try:\n",
    "    m_rmsd = np.load(f\"m_rmsd_{matrix_res}.npy\")\n",
    "except:\n",
    "    m_u = mda.Universe(\"matrix_\"+str(matrix_res)+\"_\"+output_trj)\n",
    "    u_ref = mda.Universe(\"../data/\"+system_name+\"_reference.pdb\")\n",
    "    m_u.trajectory\n",
    "    m_u.trajectory[0] # set to first frame\n",
    "    m_u_rmsd = rms.RMSD(m_u, u_ref, select='name CA')\n",
    "    m_u_rmsd.run()\n",
    "    m_rmsd = m_u_rmsd.rmsd[1:,2]/10\n",
    "    m_rmsd = m_rmsd.reshape((matrix_res, matrix_res))\n",
    "    np.save(f\"m_rmsd_{matrix_res}.npy\", m_rmsd)\n",
    "\n",
    "#m_rmsd = \n",
    "plt.imshow(np.rot90(m_rmsd, axes=(0,1)), vmax=None, cmap=\"viridis\", extent=[-1.25, 1.25, -1.25, 1.25])\n",
    "cont = plt.contour(np.flip(np.rot90(m_rmsd, axes=(1,0)), axis=1), \n",
    "                   levels=[0.1,0.2,0.3,0.4,0.5,0.6,0.7,0.8,0.9,1.0,1.1,1.2,1.3,1.4,1.5,1.6], \n",
    "                   extent=[-1.25, 1.25, -1.25, 1.25], cmap=\"jet\")\n",
    "plt.xlabel(\"latent value 0\")\n",
    "plt.ylabel(\"latent value 1\")\n",
    "plt.colorbar()"
   ]
  },
  {
   "cell_type": "markdown",
   "id": "c1bead26-864f-408a-bfbb-8398ec376a95",
   "metadata": {},
   "source": [
    "Prepare the continuous potential energy surface by interpolation"
   ]
  },
  {
   "cell_type": "code",
   "execution_count": null,
   "id": "e40fb2d2-d7ca-4ee0-9e89-00331b94c9b9",
   "metadata": {},
   "outputs": [],
   "source": [
    "lspace = np.linspace(-1.25,1.25, matrix_res, endpoint=False)\n",
    "fit_points = [lspace,lspace]\n",
    "rgi = RegularGridInterpolator(fit_points, LS_matrix_E_min, method=\"linear\")\n",
    "interpolate_grid = np.mgrid[-1.25:(1.25-3/matrix_res):0.005, -1.25:(1.25-3/matrix_res):0.005]\n",
    "interpolated = np.zeros((interpolate_grid.shape[1:]))\n",
    "for i in range(interpolate_grid.shape[-1]):\n",
    "    for j in range(interpolate_grid.shape[-1]):\n",
    "        interpolated[i,j] = rgi([interpolate_grid[0,i,j], interpolate_grid[1,i,j]])[0]"
   ]
  },
  {
   "cell_type": "markdown",
   "id": "4c97e55e-8104-493a-8802-1871edefaa11",
   "metadata": {},
   "source": [
    "Plot the continuous potential energy surface"
   ]
  },
  {
   "cell_type": "code",
   "execution_count": null,
   "id": "31d40f3d-fe40-43cb-8cbf-b8251cf8c735",
   "metadata": {},
   "outputs": [],
   "source": [
    "plt.imshow(np.rot90(interpolated/1000, axes=(0,1)), vmax=0, cmap=\"RdYlBu_r\", extent=[-1.25, 1.25, -1.25, 1.25])\n",
    "plt.xlabel(\"latent value 1\")\n",
    "plt.ylabel(\"latent value 2\")\n",
    "#plt.title(\"Potential energy of latent space\")\n",
    "cb = plt.colorbar()\n",
    "cb.set_label(\"potential energy (kJ/mol)\")\n",
    "plt.savefig(\"PE_LS.png\", dpi=600)\n",
    "plt.show()"
   ]
  },
  {
   "cell_type": "markdown",
   "id": "6bb196c3-0496-4556-bf8c-548b0bb9ce58",
   "metadata": {},
   "source": [
    "## Perform the MCMC simulation"
   ]
  },
  {
   "cell_type": "markdown",
   "id": "b6f147b9-c6ab-44d6-9a13-74cd5596a21d",
   "metadata": {},
   "source": [
    "Initialize the beginning of the MCMC simulation\n",
    "\n",
    " - save starting structure and energy\n",
    " - Set parameters $f$ to `HYP_F` and $d$ to `HYP_D`\n",
    " - Load reference RMSD distribution for comparison, if the reference data are available"
   ]
  },
  {
   "cell_type": "code",
   "execution_count": null,
   "id": "7f0d9521-4024-4405-a06a-22dd0aa7d1d1",
   "metadata": {},
   "outputs": [],
   "source": [
    "continuation=False\n",
    "if continuation:\n",
    "    try:\n",
    "        accepted_mels = np.load(\"accepted_mels.npy\")\n",
    "        print(f\"Loaded previous latent space history with lenght {accepted_mels.shape[0]}\")\n",
    "        latent_space = accepted_mels[-1,:] \n",
    "    except:\n",
    "        print(\"Error: Previous output not loaded.\")\n",
    "else:\n",
    "    accepted_mels = latent_space\n",
    "\n",
    "accepted = 0\n",
    "attempts = int(5e6)\n",
    "eval_latent_space = latent_space\n",
    "latent_space_bins = ((latent_space+1.25)*matrix_res/2.5).astype(int)\n",
    "\n",
    "E = rgi(latent_space)[0]\n",
    "accepted_energies = [E]\n",
    "accepted_energies_mels = [E]\n",
    "acceptance = [1]\n",
    "acc_rmsd_weights = [1]\n",
    "eval_E = E\n",
    "\n",
    "ls_list = latent_space\n",
    "\n",
    "eval_history = []\n",
    "mels = latent_space\n",
    "accepted_rmsd = [m_rmsd[latent_space_bins[0][0], latent_space_bins[0][1]]]\n",
    "accepted_rmsd_mels = [m_rmsd[latent_space_bins[0][0], latent_space_bins[0][1]]]\n",
    "accepted_mels = latent_space\n",
    "\n",
    "HYP_F = 200\n",
    "HYP_D = 0.001\n",
    "try: # normally load rmsd values from D.E.Shaw MD trajectory - reference distribution; for pdz it is not available\n",
    "    ref_rmsd = np.loadtxt(\"../data/\"+system_name+\"_rmsd_reference.xvg\")\n",
    "except:\n",
    "    ref_rmsd = np.loadtxt(\"../data/\"+system_name+\"_rmsd_ds.xvg\")\n",
    "bins = 50\n",
    "refpop = np.histogram(ref_rmsd[:,1], bins=bins, range=(0, 2.0), density=True)\n",
    "#eval_latent_space = np.array([[ , 0]]) \n",
    "#eval_ls_bins = ((eval_latent_space+1.5)*matrix_res/3).astype(int)\n",
    "u = mda.Universe(\"../data/\"+system_name+\"_reference.pdb\")"
   ]
  },
  {
   "cell_type": "markdown",
   "id": "a879baf3-3cc4-473e-a81d-d348c3895a6d",
   "metadata": {},
   "source": [
    "Perform the MCMC simulation\n",
    "Visualization includes\n",
    "\n",
    "- Potential energy surface with the MCMC trajectory over it\n",
    "- Free energy surface with RMSD from reference structure as a CV calculated from the MCMC simulation on-the-run\n",
    "- C alpha atoms of the protein visualized in 3D at the current MCMC step"
   ]
  },
  {
   "cell_type": "code",
   "execution_count": null,
   "id": "cf0db945-efb0-4cb8-98bb-25c62234bd4f",
   "metadata": {
    "editable": true,
    "slideshow": {
     "slide_type": ""
    },
    "tags": []
   },
   "outputs": [],
   "source": [
    "%%time\n",
    "for i in range(0,attempts):   \n",
    "    # write report about progress\n",
    "    if ((i) % 50000 == 0) or (i == attempts-1):\n",
    "        print(f\"Progress: {((i)/(attempts-1)):.1%}, accepted so far: {np.sum(acceptance)}, acceptance ratio: {np.mean(acceptance):.3%}, last energy: {(eval_E/1000):.2e} kJ/mol (accepted: {(E/1000):.2e} kJ/mol).\", end=\"\\r\")\n",
    "    \n",
    "    # get new latent space values\n",
    "    if i % int(HYP_F) == 0:\n",
    "        # uniform - direction\n",
    "        angle = np.random.uniform(low=0, high=2*np.pi, size=1)\n",
    "        master_eval_latent_space = latent_space + np.array((np.cos(angle), np.sin(angle))).T*0.1\n",
    "        while(np.any(master_eval_latent_space > 1.25-2.5/matrix_res-1e-7) or np.any(master_eval_latent_space < -1.25)):\n",
    "            angle = np.random.uniform(low=0, high=2*np.pi, size=1)\n",
    "            master_eval_latent_space = latent_space + np.array((np.cos(angle), np.sin(angle))).T*0.1\n",
    "        latent_space_before = latent_space\n",
    "        latent_space_bins = ((latent_space+1.25)*matrix_res/2.5).astype(int)\n",
    "        \n",
    "        # Sampling last accepted structure every \"HYP_F\" attempts\n",
    "        # save the energy\n",
    "        accepted_energies.append(E)\n",
    "        accepted_mels = np.vstack((accepted_mels, latent_space))\n",
    "        \n",
    "        accepted_rmsd.append(m_rmsd[latent_space_bins[0][0],latent_space_bins[0][1]])\n",
    "\n",
    "        # save the structure into trajectory file\n",
    "        mels_simulation.context.setPositions(LS_matrix_pos_min[latent_space_bins[0][0], latent_space_bins[0][1], :].reshape(pos.shape))\n",
    "        mels_state = mels_simulation.context.getState(getPositions=True)\n",
    "        mels_simulation.reporters[0].report(mels_simulation, mels_state)\n",
    "\n",
    "    eval_latent_space = np.clip(latent_space +\n",
    "                            HYP_D*10*(master_eval_latent_space - latent_space_before), \n",
    "                                -1.25, 1.25-2.5/matrix_res-1e-7)\n",
    "    eval_E = rgi([eval_latent_space[0,0],eval_latent_space[0,1]])[0]\n",
    "    \n",
    "    # monte carlo\n",
    "    if MCAccept(E, eval_E, 290.0):\n",
    "        latent_space = eval_latent_space\n",
    "        E = eval_E\n",
    "        accepted += 1\n",
    "        acceptance.append(1)\n",
    "    else:\n",
    "        acceptance.append(0)\n",
    "\n",
    "    # visual output\n",
    "    if i % 50000 == 0:\n",
    "        clear_output(wait=True)\n",
    "        \n",
    "        #pop = np.histogram(accepted_rmsd[:], bins=bins, range=(0, 2.0), density=True, weights = acc_rmsd_weights)\n",
    "        pop_mels = np.histogram(accepted_rmsd_mels[:], bins=bins, range=(0, 2.5), density=True)\n",
    "        reftemp = 290\n",
    "        temp = 290\n",
    "        \n",
    "        fig, axes = plt.subplots(1, 3, figsize = (18,4))\n",
    "        #plt.tight_layout()\n",
    "        axes[1].plot(refpop[1][:-1], (-np.log(refpop[0])*8.314*reftemp/1000)-np.min((-np.log(refpop[0])*8.314*reftemp/1000)))\n",
    "        axes[1].plot(refpop[1][:-1], +4.18+(-np.log(refpop[0])*8.314*reftemp/1000)-\n",
    "                     np.min((-np.log(refpop[0])*8.314*reftemp/1000)), color=\"lightblue\")\n",
    "        axes[1].plot(refpop[1][:-1], -4.18+(-np.log(refpop[0])*8.314*reftemp/1000)-\n",
    "                     np.min((-np.log(refpop[0])*8.314*reftemp/1000)), color=\"lightblue\")\n",
    "        #axes[1].plot(pop[1][:-1], (-np.log(pop[0])*8.314*temp/1000)-np.min((-np.log(pop[0])*8.314*temp/1000)))\n",
    "        axes[1].plot(pop_mels[1][:-1], (-np.log(pop_mels[0])*8.314*temp/1000)-np.min((-np.log(pop_mels[0])*8.314*temp/1000)), \n",
    "                     color=\"orange\")\n",
    "        axes[1].set_ylabel(\"free energy (kJ/mol)\")\n",
    "        axes[1].set_xlim((0,2.0))\n",
    "        \n",
    "        img = axes[0].imshow(np.rot90(interpolated/1000, axes=(0,1)), vmax=0, \n",
    "                             cmap=\"viridis\", extent=[-1.25, 1.25, -1.25, 1.25])\n",
    "        axes[0].contour(np.flip(np.rot90(m_rmsd, axes=(1,0)), axis=1),\n",
    "                        levels=[0.2,0.4,0.6,0.8,1.0,1.2,1.4,1.6], \n",
    "                        extent=[-1.25, 1.25, -1.25, 1.25], cmap=\"jet\")\n",
    "        axes[0].set_xlabel(\"latent value 1\")\n",
    "        axes[0].set_ylabel(\"latent value 2\")\n",
    "        cbar = plt.colorbar(img, ax=axes[0])\n",
    "        cbar.set_label(\"potential energy\")\n",
    "        axes[0].scatter(accepted_mels[:-500,0], accepted_mels[:-500,1], c=\"lightgray\", s=1)\n",
    "        axes[0].scatter(accepted_mels[-500:-100,0], accepted_mels[-500:-100,1], c=\"red\", s=1)\n",
    "        axes[0].plot(accepted_mels[-100:,0], accepted_mels[-100:,1], c=\"black\")\n",
    "\n",
    "        axes[2] = fig.add_subplot(1, 3, 3, projection='3d')\n",
    "        u.atoms.positions = LS_matrix_pos_min[latent_space_bins[0][0], latent_space_bins[0][1], :].reshape(pos.shape)\n",
    "        axes[2].plot3D(u.select_atoms(\"name CA\").positions[:, 0], \n",
    "                       u.select_atoms(\"name CA\").positions[:, 1], \n",
    "                       u.select_atoms(\"name CA\").positions[:, 2])\n",
    "        plt.show()\n",
    "print(f\"\\nAccepted: {np.sum(acceptance)}\")"
   ]
  },
  {
   "cell_type": "markdown",
   "id": "f144e0f7-e7ab-42ac-a1d6-39260d0288d2",
   "metadata": {},
   "source": [
    "Save the MCMC simulation progress"
   ]
  },
  {
   "cell_type": "code",
   "execution_count": null,
   "id": "f50daf9e-05b9-406a-bad8-68c2a8b881ff",
   "metadata": {},
   "outputs": [],
   "source": [
    "np.save(\"accepted_mels.npy\", accepted_mels)\n",
    "accepted_mels.shape, HYP_F, HYP_D"
   ]
  },
  {
   "cell_type": "markdown",
   "id": "2b7270b5-4a3b-4f04-9af4-9aefcf1710b9",
   "metadata": {},
   "source": [
    "## Analyse the MCMC results"
   ]
  },
  {
   "cell_type": "markdown",
   "id": "a94d18e3-923a-467c-953c-75251488db1b",
   "metadata": {},
   "source": [
    "Calculate and plot the Free energy surface calculated using MCMC samples over the latent space"
   ]
  },
  {
   "cell_type": "code",
   "execution_count": null,
   "id": "cf3f0fe0-e7ba-498f-a889-e0c61d9a5b50",
   "metadata": {},
   "outputs": [],
   "source": [
    "hist2d = np.histogram2d(accepted_mels[:,0], accepted_mels[:,1], bins=32, range=[[-1.25,1.25],[-1.25, 1.25]], density=True)"
   ]
  },
  {
   "cell_type": "code",
   "execution_count": null,
   "id": "e13d4b52-1d3a-472e-bbf5-2af06e8d5bf2",
   "metadata": {},
   "outputs": [],
   "source": [
    "plt.imshow(np.rot90((-np.log(hist2d[0])*8.314*temp/1000)-\n",
    "                    np.min((-np.log(hist2d[0])*8.314*temp/1000)), axes=(0,1)), \n",
    "           cmap=\"RdYlBu_r\", extent=[-1.25, 1.25, -1.25, 1.25])\n",
    "plt.xlabel(\"latent value 1\")\n",
    "plt.ylabel(\"latent value 2\")\n",
    "plt.colorbar()"
   ]
  },
  {
   "cell_type": "markdown",
   "id": "9d21a5fa-6655-4d66-bf08-c0e72c325f83",
   "metadata": {},
   "source": [
    "Plot the potential energy surface and the MCMC trajectory"
   ]
  },
  {
   "cell_type": "code",
   "execution_count": null,
   "id": "2bd4bd09-b2f1-4457-b9d1-824e3bbb49ca",
   "metadata": {},
   "outputs": [],
   "source": [
    "plt.imshow(np.rot90(LS_matrix_E_min/1000, axes=(0,1)), vmax=0, cmap=\"RdYlBu_r\", extent=[-1.25, 1.25, -1.25, 1.25])\n",
    "plt.xlabel(\"latent value 1\")\n",
    "plt.ylabel(\"latent value 2\")\n",
    "plt.colorbar()\n",
    "plt.plot(accepted_mels[::1,0], accepted_mels[::1,1], c=\"black\")"
   ]
  },
  {
   "cell_type": "code",
   "execution_count": null,
   "id": "f973d6d1-c8a0-4c1a-83cc-8f41061bb8b6",
   "metadata": {},
   "outputs": [],
   "source": [
    "plt.imshow(np.rot90(interpolated/1000, axes=(0,1)), vmax=0, cmap=\"RdYlBu_r\", extent=[-1.25, 1.25, -1.25, 1.25])\n",
    "plt.xlabel(\"latent value 1\")\n",
    "plt.ylabel(\"latent value 2\")\n",
    "#plt.title(\"Potential energy of latent space\")\n",
    "cb = plt.colorbar()\n",
    "cb.set_label(\"potential energy (kJ/mol)\")\n",
    "plt.plot(accepted_mels[::50,0], accepted_mels[::50,1], c=\"black\")\n",
    "plt.savefig(\"PE_LS_MC.png\", dpi=600)"
   ]
  },
  {
   "cell_type": "markdown",
   "id": "1f734435-9dc9-403d-a050-4add56ecc73e",
   "metadata": {},
   "source": [
    "Plot the potential energies of structures sampled during MCMC simulation"
   ]
  },
  {
   "cell_type": "code",
   "execution_count": null,
   "id": "9ae5d965-0e6b-4350-b764-395346967c85",
   "metadata": {
    "editable": true,
    "slideshow": {
     "slide_type": ""
    },
    "tags": []
   },
   "outputs": [],
   "source": [
    "fig, ax = plt.subplots(figsize=(10,6))\n",
    "ax.plot(range(len(accepted_energies_mels)), np.array(accepted_energies_mels[:])/1000)\n",
    "ax.set_xlabel(\"MCMC samples\")\n",
    "ax.set_ylabel(\"potential energy (kJ/mol)\")\n",
    "\n",
    "plt.savefig(\"PE_300.png\", dpi=600)"
   ]
  },
  {
   "cell_type": "markdown",
   "id": "c6682641-cfc4-407b-a68a-52e1f1937b95",
   "metadata": {},
   "source": [
    "Plot the RMSD from reference structure of the samples from MCMC simulation"
   ]
  },
  {
   "cell_type": "code",
   "execution_count": null,
   "id": "c9c271b9-4445-45ea-a50a-591d42e2d7c8",
   "metadata": {},
   "outputs": [],
   "source": [
    "u = mda.Universe(\"mels_\"+output_trj)\n",
    "u_ref = mda.Universe(\"../data/\"+system_name+\"_reference.pdb\")\n",
    "print(u.trajectory)\n",
    "u.trajectory[0] # set to first frame\n",
    "u_rmsd = rms.RMSD(u, u_ref, select='name CA')\n",
    "u_rmsd.run()\n",
    "u_rmsd = u_rmsd.results.rmsd[1:,2]/10\n",
    "\n",
    "plt.figure(figsize=((10,5)))\n",
    "plt.plot(u_rmsd)\n",
    "plt.ylim((0,1.2))\n",
    "plt.xlabel(\"MCMC samples\")\n",
    "plt.ylabel(\"RMSD (nm)\")\n",
    "plt.savefig(system_name+\"_rmsd.png\", dpi=600)"
   ]
  },
  {
   "cell_type": "markdown",
   "id": "e483382a-5b5c-488c-902b-9baf00889bc1",
   "metadata": {},
   "source": [
    "Plot the average acceptance ratio during MCMC simulation"
   ]
  },
  {
   "cell_type": "code",
   "execution_count": null,
   "id": "67d8eb19-27b3-4c82-98ca-256bbf4d0cd9",
   "metadata": {},
   "outputs": [],
   "source": [
    "plt.figure(figsize=(10,2))\n",
    "plt.scatter(range(0,len(acceptance)), acceptance[:], s = 1)\n",
    "\n",
    "window = 100\n",
    "average_ac = []\n",
    "for ind in range(int(len(acceptance)/window + 1)):\n",
    "    average_ac.append(np.mean(acceptance[ind*window:ind*window+window]))\n",
    "print(\"plotting\")\n",
    "plt.scatter(range(0,len(average_ac)*window, window), average_ac[:], s = 1, color =\"orange\")\n",
    "plt.xlabel(\"steps\")\n",
    "plt.ylabel(\"ratio\")"
   ]
  },
  {
   "cell_type": "markdown",
   "id": "6e3c99d8-d859-4379-b1d5-5218baed80a9",
   "metadata": {},
   "source": [
    "Calculate the Free energy surface from the sampled population of structures and compare it to a reference population, if available"
   ]
  },
  {
   "cell_type": "code",
   "execution_count": null,
   "id": "11338903-7b82-434f-84f3-e11f3e68e846",
   "metadata": {},
   "outputs": [],
   "source": [
    "bins = 32\n",
    "refpop = np.histogram(ref_rmsd[:,1], bins=bins, range=(0, 1.5), density=True)\n",
    "pop = np.histogram(accepted_rmsd_mels[:], bins=bins, range=(0, 1.5), density=True, weights = None)\n",
    "reftemp = 290\n",
    "temp = 290\n",
    "\n",
    "fig, axes = plt.subplots(1, 3, figsize=(16,4))\n",
    "axes[0].bar(refpop[1][:-1], refpop[0]/np.sum(refpop[0]), width=1.3/bins)\n",
    "axes[0].set_title(\"Molecular dynamics (D.E.Shaw)\")\n",
    "axes[0].set_xlabel(\"RMSD (nm)\")\n",
    "axes[0].set_ylabel(\"relative population\")\n",
    "\n",
    "axes[1].bar(pop[1][:-1], pop[0]/np.sum(pop[0]), color=\"orange\", width=1.3/bins)\n",
    "axes[1].set_title(\"MCMC with autoencoder\")\n",
    "axes[1].set_xlabel(\"RMSD (nm)\")\n",
    "\n",
    "axes[2].plot(refpop[1][:-1], (-np.log(refpop[0])*8.314*reftemp/1000)-np.min((-np.log(refpop[0])*8.314*reftemp/1000)))\n",
    "axes[2].plot(pop[1][:-1], (-np.log(pop[0])*8.314*temp/1000)-np.min((-np.log(pop[0])*8.314*temp/1000)))\n",
    "axes[2].set_title(\"Free energy comparison\")\n",
    "axes[2].set_ylabel(\"free energy (kJ/mol)\")\n",
    "axes[2].set_xlabel(\"RMSD (nm)\")\n",
    "axes[2].set_xlim((0,1.5))\n",
    "plt.savefig(system_name+\"_MC_fes.png\", dpi=600, bbox_inches = 'tight')"
   ]
  },
  {
   "cell_type": "code",
   "execution_count": null,
   "id": "68360f93-73b9-4e74-acb6-04007399727e",
   "metadata": {},
   "outputs": [],
   "source": []
  }
 ],
 "metadata": {
  "kernelspec": {
   "display_name": "ae",
   "language": "python",
   "name": "ae"
  },
  "language_info": {
   "codemirror_mode": {
    "name": "ipython",
    "version": 3
   },
   "file_extension": ".py",
   "mimetype": "text/x-python",
   "name": "python",
   "nbconvert_exporter": "python",
   "pygments_lexer": "ipython3",
   "version": "3.11.9"
  }
 },
 "nbformat": 4,
 "nbformat_minor": 5
}
