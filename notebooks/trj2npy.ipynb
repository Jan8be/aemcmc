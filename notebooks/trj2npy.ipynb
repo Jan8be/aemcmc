{
 "cells": [
  {
   "cell_type": "markdown",
   "id": "66b8802a-701e-4cc0-ac9a-4755d8d1d49c",
   "metadata": {},
   "source": [
    "# Prepare training dataset"
   ]
  },
  {
   "cell_type": "markdown",
   "id": "81ff39c3-4444-4785-8d5f-b734f6772ba6",
   "metadata": {},
   "source": [
    "## Import packages"
   ]
  },
  {
   "cell_type": "code",
   "execution_count": 1,
   "id": "35cc1c8f-58dc-4329-8362-876a6081df19",
   "metadata": {},
   "outputs": [],
   "source": [
    "import numpy as np\n",
    "import mdtraj as mdt"
   ]
  },
  {
   "cell_type": "markdown",
   "id": "8900f523-baef-4f6f-a577-84a6c0ea0131",
   "metadata": {},
   "source": [
    "## System properties"
   ]
  },
  {
   "cell_type": "code",
   "execution_count": 2,
   "id": "57e4c087-dbba-4528-9756-2762f1573a82",
   "metadata": {},
   "outputs": [],
   "source": [
    "system_name = \"trpcage\"\n",
    "trajectory_name = \"trpcage_ds_fit.xtc\""
   ]
  },
  {
   "cell_type": "markdown",
   "id": "e9abba99-4800-4436-a4f2-bd60513226b2",
   "metadata": {},
   "source": [
    "## Load trajectory"
   ]
  },
  {
   "cell_type": "code",
   "execution_count": 3,
   "id": "63839957-843f-4a6d-87c6-b75681b0ea3f",
   "metadata": {},
   "outputs": [],
   "source": [
    "trajectory = mdt.load(trajectory_name, top=system_name+\"_reference.pdb\")"
   ]
  },
  {
   "cell_type": "code",
   "execution_count": 4,
   "id": "4652a574-ca54-410b-9024-b3ddfb7c1c83",
   "metadata": {},
   "outputs": [],
   "source": [
    "trj = trajectory.xyz.reshape((trajectory.xyz.shape[0],trajectory.xyz.shape[1]*trajectory.xyz.shape[2]))"
   ]
  },
  {
   "cell_type": "code",
   "execution_count": 5,
   "id": "141addac-1a49-4e6f-8e88-0086b4dbb8aa",
   "metadata": {},
   "outputs": [
    {
     "data": {
      "text/plain": [
       "(50001, 816)"
      ]
     },
     "execution_count": 5,
     "metadata": {},
     "output_type": "execute_result"
    }
   ],
   "source": [
    "trj.shape"
   ]
  },
  {
   "cell_type": "markdown",
   "id": "880d2be8-caa2-4322-afae-d62d67cb93e6",
   "metadata": {},
   "source": [
    "## Save the dataset"
   ]
  },
  {
   "cell_type": "code",
   "execution_count": 6,
   "id": "e177eea4-b045-4666-a3b3-847d88ec53cb",
   "metadata": {},
   "outputs": [],
   "source": [
    "np.save(system_name+\"_ds.npy\", trj)"
   ]
  }
 ],
 "metadata": {
  "kernelspec": {
   "display_name": "Python [conda env:ae]",
   "language": "python",
   "name": "conda-env-ae-py"
  },
  "language_info": {
   "codemirror_mode": {
    "name": "ipython",
    "version": 3
   },
   "file_extension": ".py",
   "mimetype": "text/x-python",
   "name": "python",
   "nbconvert_exporter": "python",
   "pygments_lexer": "ipython3",
   "version": "3.11.9"
  }
 },
 "nbformat": 4,
 "nbformat_minor": 5
}
