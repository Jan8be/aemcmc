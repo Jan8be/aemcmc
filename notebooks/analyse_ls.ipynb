{
 "cells": [
  {
   "cell_type": "markdown",
   "id": "8bc3be1d-26fb-49a9-bda7-bfdd68425772",
   "metadata": {},
   "source": [
    "# Analyse Autoencoder's latent space"
   ]
  },
  {
   "cell_type": "markdown",
   "id": "a050a17a-5c45-4797-9c94-375ee0f73e8a",
   "metadata": {},
   "source": [
    "## Initialize the notebook \n",
    "import packages"
   ]
  },
  {
   "cell_type": "code",
   "execution_count": null,
   "id": "5716ebdc-cd15-42b4-a86e-19589fc5c91b",
   "metadata": {},
   "outputs": [],
   "source": [
    "from openmm.app import *\n",
    "from openmm import *\n",
    "from openmm.unit import *\n",
    "import openmm\n",
    "import numpy as np\n",
    "import tensorflow as tf\n",
    "from tensorflow import keras\n",
    "from keras import layers\n",
    "from keras import saving\n",
    "import scipy.constants as sc\n",
    "from matplotlib import pyplot as plt\n",
    "import os\n",
    "import pickle\n",
    "from IPython.display import clear_output\n",
    "from scipy.interpolate import RegularGridInterpolator\n",
    "from sklearn.model_selection import train_test_split\n",
    "import MDAnalysis as mda\n",
    "from MDAnalysis.analysis import rms\n",
    "import jupyter_beeper\n",
    "beep = jupyter_beeper.Beeper()\n",
    "import copy"
   ]
  },
  {
   "cell_type": "markdown",
   "id": "3f95e400-c2d4-471d-abce-5df10d8da32c",
   "metadata": {},
   "source": [
    "Define system name and system-specific functions"
   ]
  },
  {
   "cell_type": "code",
   "execution_count": null,
   "id": "58c587d6-e86b-46c1-b215-e0d650f76e17",
   "metadata": {},
   "outputs": [],
   "source": [
    "system_name = \"trpcage\"\n",
    "model_name = \"n_5e-2_4\""
   ]
  },
  {
   "cell_type": "code",
   "execution_count": null,
   "id": "01f3f6da-167b-4383-89b4-1d89decf2777",
   "metadata": {},
   "outputs": [],
   "source": [
    "def Standardize(x):\n",
    "    x = np.array(x)\n",
    "    if system_name == \"trpcage\":\n",
    "        result = (x + 1.0)/6\n",
    "    elif system_name == \"villin\":\n",
    "        result = (x + 2.0)/9\n",
    "    elif system_name == \"pdz\":\n",
    "        result = (x - 1.5)/9\n",
    "    return result\n",
    "\n",
    "def Unstandardize(x):\n",
    "    x = np.array(x)\n",
    "    if system_name == \"trpcage\":\n",
    "        result = (x * 6) + 1.0\n",
    "    elif system_name == \"villin\":\n",
    "        result = (x * 9) - 2.0\n",
    "    elif system_name == \"pdz\":\n",
    "        result = (x * 9) + 1.5\n",
    "    return result\n",
    "\n",
    "@saving.register_keras_serializable()\n",
    "class Sampling(keras.layers.Layer):\n",
    "    def __init__(self, noise=0.05):\n",
    "        super().__init__()\n",
    "        self.noise = noise\n",
    "    \n",
    "    def call(self, inputs):\n",
    "        z_mean = inputs\n",
    "        batch = tf.shape(z_mean)[0]\n",
    "        dim = tf.shape(z_mean)[1]\n",
    "        epsilon = keras.random.normal(shape=(batch, dim))\n",
    "        return z_mean +  epsilon * self.noise\n",
    "\n",
    "    def get_config(self):\n",
    "        return {\"noise\": self.noise}"
   ]
  },
  {
   "cell_type": "markdown",
   "id": "1ff38a63-0835-453a-b054-7dd70842ebc2",
   "metadata": {},
   "source": [
    "## Load the trained models and training datasets"
   ]
  },
  {
   "cell_type": "code",
   "execution_count": null,
   "id": "2d55aa52-150b-4377-afb1-0ce39926960e",
   "metadata": {
    "scrolled": true
   },
   "outputs": [],
   "source": [
    "encoder = keras.models.load_model(\"../ae/models/e_\"+model_name+\".keras\")"
   ]
  },
  {
   "cell_type": "code",
   "execution_count": null,
   "id": "0e3a388a-c4a8-47ee-a598-32f665d09d7d",
   "metadata": {},
   "outputs": [],
   "source": [
    "decoder = keras.models.load_model(\"../ae/models/d_\"+model_name+\".keras\")"
   ]
  },
  {
   "cell_type": "code",
   "execution_count": null,
   "id": "bb49b269-b621-478c-b76d-ebaf04cfaacd",
   "metadata": {},
   "outputs": [],
   "source": [
    "coord = np.load(\"../data/trpcage_ds.npy\")"
   ]
  },
  {
   "cell_type": "code",
   "execution_count": null,
   "id": "f66cffd9-ca75-41c3-93b2-87ab825ab606",
   "metadata": {},
   "outputs": [],
   "source": [
    "rmsd = np.loadtxt(\"../data/trpcage_rmsd_ds.xvg\")"
   ]
  },
  {
   "cell_type": "code",
   "execution_count": null,
   "id": "fa2cf752-f60b-4725-be5f-e9cf0731ea55",
   "metadata": {},
   "outputs": [],
   "source": [
    "data_density = 1\n",
    "data = Standardize(coord[::data_density])\n",
    "#del(coord)\n",
    "x_train, x_test, y_train, y_test = train_test_split(data, data, test_size=0.2)\n",
    "x_train.shape"
   ]
  },
  {
   "cell_type": "markdown",
   "id": "0ad27ffc-d898-4526-a042-cd3ed5c979c4",
   "metadata": {},
   "source": [
    "## Plot the data in the latent space"
   ]
  },
  {
   "cell_type": "code",
   "execution_count": null,
   "id": "9b5132ea-fd8b-4362-82f1-f2d52f155241",
   "metadata": {},
   "outputs": [],
   "source": [
    "latent_space=2\n",
    "each = 10\n",
    "latents = encoder.predict(data[::each,:])"
   ]
  },
  {
   "cell_type": "code",
   "execution_count": null,
   "id": "d39fa687-719a-487d-a5ff-f93c1426656b",
   "metadata": {},
   "outputs": [],
   "source": [
    "plt.scatter(latents[:,latent_values[0]],latents[:,latent_values[1]], c=rmsd[::each*data_density,1], cmap=\"jet\", s=2)\n",
    "cbar = plt.colorbar()\n",
    "cbar.set_label(\"RMSD (nm)\")\n",
    "plt.xlabel(\"latent value 1\")\n",
    "plt.ylabel(\"latent value 2\")\n",
    "plt.title(\"Latent space\")\n",
    "axes = plt.gca()\n",
    "axes.set(xlim=([-1.2,1.2]))\n",
    "axes.set(ylim=([-1.2,1.2]))\n",
    "plt.savefig(\"ls.png\", dpi=600)"
   ]
  },
  {
   "cell_type": "markdown",
   "id": "9b231520-e74f-4963-b5fb-0d56f2ba0b0e",
   "metadata": {},
   "source": [
    "Define points in the latent space to analyse"
   ]
  },
  {
   "cell_type": "code",
   "execution_count": null,
   "id": "2faefb50-15ae-417b-b6db-a3aa3cf19656",
   "metadata": {},
   "outputs": [],
   "source": [
    "latent_spaces_4a = np.array([[ -1.0, 1.0], \n",
    "                             [  0.0, 1.0], \n",
    "                             [  1.0, 1.0], \n",
    "                             \n",
    "                             [ -1.0, 0.0], \n",
    "                             [  0.0, 0.0], \n",
    "                             [  1.0, 0.0],        \n",
    "                             \n",
    "                             [ -1.0, -1.0], \n",
    "                             [  0.0, -1.0], \n",
    "                             [  1.0, -1.0], \n",
    "                             ])"
   ]
  },
  {
   "cell_type": "markdown",
   "id": "c365a25d-1043-4e42-8236-46a0715b5fbf",
   "metadata": {},
   "source": [
    "... and plot them"
   ]
  },
  {
   "cell_type": "code",
   "execution_count": null,
   "id": "d11b2661-aeee-4496-955a-b0b2bf63ea7a",
   "metadata": {},
   "outputs": [],
   "source": [
    "plt.figure()\n",
    "plt.scatter(latents[::,latent_values[0]],latents[::,latent_values[1]], c=rmsd[::each*data_density,1], cmap=\"jet\", s=1)\n",
    "cbar = plt.colorbar(cmap=\"jet\")\n",
    "plt.scatter(latent_spaces_4a[:,0], latent_spaces_4a[:,1], color=\"k\", s=10)\n",
    "plt.title(\"Latent space\")\n",
    "cbar.set_label(\"RMSD (nm)\")\n",
    "plt.xlabel(\"latent value 1\")\n",
    "plt.ylabel(\"latent value 2\")\n",
    "axes = plt.gca()\n",
    "axes.set(xlim=([-1.2,1.2]))\n",
    "axes.set(ylim=([-1.2,1.2]))\n",
    "plt.text(-1.0,  1.0-0.15,\"A\", horizontalalignment='center',verticalalignment='center', c=\"k\", weight=\"regular\", size=\"x-large\")\n",
    "plt.text( 0.0,  1.0-0.15,\"B\", horizontalalignment='center',verticalalignment='center', c=\"k\", weight=\"regular\", size=\"x-large\")\n",
    "plt.text( 1.0,  1.0-0.15,\"C\", horizontalalignment='center',verticalalignment='center', c=\"k\", weight=\"regular\", size=\"x-large\")\n",
    "plt.text(-1.0,  0.0-0.15,\"D\", horizontalalignment='center',verticalalignment='center', c=\"k\", weight=\"regular\", size=\"x-large\")\n",
    "plt.text( 0.0,  0.0-0.15,\"E\", horizontalalignment='center',verticalalignment='center', c=\"k\", weight=\"regular\", size=\"x-large\")\n",
    "plt.text( 1.0,  0.0-0.15,\"F\", horizontalalignment='center',verticalalignment='center', c=\"k\", weight=\"regular\", size=\"x-large\")\n",
    "plt.text(-1.0, -1.0-0.15,\"G\", horizontalalignment='center',verticalalignment='center', c=\"k\", weight=\"regular\", size=\"x-large\")\n",
    "plt.text( 0.0, -1.0-0.15,\"H\", horizontalalignment='center',verticalalignment='center', c=\"k\", weight=\"regular\", size=\"x-large\")\n",
    "plt.text( 1.0, -1.0-0.15,\"I\", horizontalalignment='center',verticalalignment='center', c=\"k\", weight=\"regular\", size=\"x-large\")\n",
    "plt.savefig(\"ls_dots.png\", dpi=600)"
   ]
  },
  {
   "cell_type": "markdown",
   "id": "036e831f-bb24-4fc2-b687-590fd3134529",
   "metadata": {},
   "source": [
    "Decode protein structures from the latent space and save them into pdb file"
   ]
  },
  {
   "cell_type": "code",
   "execution_count": null,
   "id": "18baa27a-a269-4074-b9f7-9c41d80a07ad",
   "metadata": {},
   "outputs": [],
   "source": [
    "output_trj = 'output_ls_'+model_name+'.pdb'\n",
    "\n",
    "pdb = PDBFile('../data/'+system_name+'_reference.pdb')\n",
    "\n",
    "forcefield = ForceField('amber14-all.xml', 'implicit/gbn2.xml')\n",
    "\n",
    "system = forcefield.createSystem(pdb.topology)\n",
    "integrator = LangevinMiddleIntegrator(300*kelvin, 1/picosecond, 0.002*picoseconds)#0.002*picoseconds)\n",
    "simulation = Simulation(pdb.topology, system, integrator)\n",
    "simulation.reporters.append(PDBReporter(output_trj, 500))\n",
    "\n",
    "# initial structure with topology from reference\n",
    "simulation.context.setPositions(pdb.positions)\n",
    "state = simulation.context.getState(getEnergy=True, getPositions=True)\n",
    "print(state.getPotentialEnergy())\n",
    "simulation.reporters[0].report(simulation, state)\n",
    "\n",
    "# encoded\n",
    "\n",
    "e_system = forcefield.createSystem(pdb.topology)\n",
    "e_integrator = LangevinMiddleIntegrator(300*kelvin, 1/picosecond, 0.002*picoseconds)#0.002*picoseconds)\n",
    "e_simulation = Simulation(pdb.topology, e_system, e_integrator)\n",
    "e_simulation.reporters.append(PDBReporter(\"e_\"+output_trj, 500))\n",
    "\n",
    "e_simulation.context.setPositions(pdb.positions)\n",
    "e_state = e_simulation.context.getState(getEnergy=True, getPositions=True)\n",
    "print(e_state.getPotentialEnergy())\n",
    "e_simulation.reporters[0].report(e_simulation, e_state)\n",
    "\n",
    "# decoded\n",
    "\n",
    "d_system = forcefield.createSystem(pdb.topology)\n",
    "d_integrator = LangevinMiddleIntegrator(300*kelvin, 1/picosecond, 0.002*picoseconds)#0.002*picoseconds)\n",
    "d_simulation = Simulation(pdb.topology, d_system, d_integrator)\n",
    "d_simulation.reporters.append(PDBReporter(\"d_\"+output_trj, 500))\n",
    "\n",
    "d_simulation.context.setPositions(pdb.positions)\n",
    "d_state = d_simulation.context.getState(getEnergy=True, getPositions=True)\n",
    "print(d_state.getPotentialEnergy())\n",
    "d_simulation.reporters[0].report(d_simulation, d_state)\n",
    "\n",
    "# decoded with minimization\n",
    "\n",
    "d_min_system = forcefield.createSystem(pdb.topology)\n",
    "d_min_integrator = LangevinMiddleIntegrator(300*kelvin, 1/picosecond, 0.002*picoseconds)#0.002*picoseconds)\n",
    "d_min_simulation = Simulation(pdb.topology, d_min_system, d_min_integrator, Platform.getPlatformByName('CPU'))\n",
    "d_min_simulation.reporters.append(PDBReporter(\"d_min_\"+output_trj, 500))\n",
    "\n",
    "d_min_simulation.context.setPositions(pdb.positions)\n",
    "d_min_simulation.minimizeEnergy(maxIterations=200, tolerance = 4.0e2)\n",
    "d_min_state = d_min_simulation.context.getState(getEnergy=True, getPositions=True)\n",
    "print(d_min_state.getPotentialEnergy())\n",
    "d_min_simulation.reporters[0].report(d_min_simulation, d_min_state)"
   ]
  },
  {
   "cell_type": "markdown",
   "id": "99920f2b-1996-4d4b-9540-e088a515b14e",
   "metadata": {},
   "source": [
    "Find the structures from the training dataset which are closest to the selected points"
   ]
  },
  {
   "cell_type": "code",
   "execution_count": null,
   "id": "7a188d7d-2e6b-40f2-a689-1ff1c832d264",
   "metadata": {},
   "outputs": [],
   "source": [
    "closest_indexes = np.empty((latent_spaces_4a.shape[0]))\n",
    "for i in range(latent_spaces_4a.shape[0]):\n",
    "    \n",
    "    # find the closest structure in training data\n",
    "    distances_ls = (latents[:,0]-latent_spaces_4a[i,0])**2 + (latents[:,1]-latent_spaces_4a[i,1])**2\n",
    "    closest_indexes[i] = int(np.where(np.sort(distances_ls)[0] == distances_ls)[0][0])\n",
    "closest_indexes = closest_indexes.astype(int)\n",
    "closest_indexes"
   ]
  },
  {
   "cell_type": "markdown",
   "id": "037ba6b4-5941-4afe-b3b8-161cdd3bdbbd",
   "metadata": {},
   "source": [
    "Calculate potential energies of the closest structures from training dataset"
   ]
  },
  {
   "cell_type": "code",
   "execution_count": null,
   "id": "428145dc-719b-4cc3-b4ce-642847d0fb90",
   "metadata": {},
   "outputs": [],
   "source": [
    "for i in range(latent_spaces_4a.shape[0]):\n",
    "    e_simulation.context.setPositions(Unstandardize(data[closest_indexes[i],:]).reshape((int(data.shape[1]/3), 3)))\n",
    "    e_state = e_simulation.context.getState(getEnergy=True, getPositions=True)\n",
    "    print(e_state.getPotentialEnergy())\n",
    "    e_simulation.reporters[0].report(e_simulation, e_state)"
   ]
  },
  {
   "cell_type": "code",
   "execution_count": null,
   "id": "972981c0-4cad-4d34-9b36-1e44622bb913",
   "metadata": {},
   "outputs": [],
   "source": [
    "letters = [\"A\",\"B\",\"C\",\"D\",\"E\",\"F\",\"G\",\"H\",\"I\"]"
   ]
  },
  {
   "cell_type": "markdown",
   "id": "598656bf-bc10-4708-839d-0437416d241d",
   "metadata": {},
   "source": [
    "Compare potential energies of decoded structures before and after energy minimization"
   ]
  },
  {
   "cell_type": "code",
   "execution_count": null,
   "id": "17d9b2c8-fbb6-427b-8e58-358e5e69d2d3",
   "metadata": {},
   "outputs": [],
   "source": [
    "d_min_system = forcefield.createSystem(pdb.topology)\n",
    "d_min_integrator = LangevinMiddleIntegrator(300*kelvin, 1/picosecond, 0.002*picoseconds)#0.002*picoseconds)\n",
    "d_min_simulation = Simulation(pdb.topology, d_min_system, d_min_integrator, Platform.getPlatformByName('CPU'))\n",
    "d_min_simulation.reporters.append(PDBReporter(\"conformations_A-I_min.pdb\", 500))\n",
    "\n",
    "for i in range(latent_spaces_4a.shape[0]):\n",
    "    pos = decoder((latent_spaces_4a[i,:].reshape((1,2)))).numpy().transpose()\n",
    "    d_simulation.context.setPositions(Unstandardize(pos.reshape((int(data.shape[1]/3), 3))))\n",
    "    d_state = d_simulation.context.getState(getEnergy=True, getPositions=True)\n",
    "    print(f\"Point: {letters[i]}: Potential energy after decoding: {d_state.getPotentialEnergy()}\", end=\", \")\n",
    "    d_simulation.reporters[0].report(d_simulation, d_state)\n",
    "\n",
    "    d_min_simulation.context.setPositions(Unstandardize(pos.reshape((int(data.shape[1]/3), 3))))\n",
    "    d_min_simulation.minimizeEnergy(maxIterations=200, tolerance = 1.0e2)\n",
    "    d_min_state = d_min_simulation.context.getState(getEnergy=True, getPositions=True)\n",
    "    print(f\"Potential energy after minimization: {d_min_state.getPotentialEnergy()}\")\n",
    "    d_min_simulation.reporters[0].report(d_min_simulation, d_min_state)"
   ]
  }
 ],
 "metadata": {
  "kernelspec": {
   "display_name": "Python [conda env:ae]",
   "language": "python",
   "name": "conda-env-ae-py"
  },
  "language_info": {
   "codemirror_mode": {
    "name": "ipython",
    "version": 3
   },
   "file_extension": ".py",
   "mimetype": "text/x-python",
   "name": "python",
   "nbconvert_exporter": "python",
   "pygments_lexer": "ipython3",
   "version": "3.11.9"
  }
 },
 "nbformat": 4,
 "nbformat_minor": 5
}
